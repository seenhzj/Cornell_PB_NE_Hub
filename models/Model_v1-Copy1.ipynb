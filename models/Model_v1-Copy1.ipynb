{
 "cells": [
  {
   "cell_type": "markdown",
   "metadata": {},
   "source": [
    "## Model Version 1"
   ]
  },
  {
   "cell_type": "code",
   "execution_count": 1,
   "metadata": {
    "ExecuteTime": {
     "end_time": "2019-02-07T21:45:50.858474Z",
     "start_time": "2019-02-07T21:45:48.959121Z"
    },
    "scrolled": false
   },
   "outputs": [
    {
     "name": "stdout",
     "output_type": "stream",
     "text": [
      "Requirement already satisfied: pyomo in /opt/conda/lib/python3.6/site-packages (5.6)\r\n",
      "Requirement already satisfied: PyUtilib>=5.6.4 in /opt/conda/lib/python3.6/site-packages (from pyomo) (5.6.4)\r\n",
      "Requirement already satisfied: appdirs in /opt/conda/lib/python3.6/site-packages (from pyomo) (1.4.3)\r\n",
      "Requirement already satisfied: ply in /opt/conda/lib/python3.6/site-packages (from pyomo) (3.11)\r\n",
      "Requirement already satisfied: six>=1.4 in /opt/conda/lib/python3.6/site-packages (from pyomo) (1.11.0)\r\n",
      "Requirement already satisfied: nose in /opt/conda/lib/python3.6/site-packages (from PyUtilib>=5.6.4->pyomo) (1.3.7)\r\n"
     ]
    }
   ],
   "source": [
    "#! pip install pyomo"
   ]
  },
  {
   "cell_type": "code",
   "execution_count": 36,
   "metadata": {
    "ExecuteTime": {
     "end_time": "2019-02-16T21:23:48.046290Z",
     "start_time": "2019-02-16T21:23:47.780057Z"
    },
    "scrolled": true
   },
   "outputs": [
    {
     "name": "stdout",
     "output_type": "stream",
     "text": [
      "/home/fusion/jupyterhub-notebooks/Cornell_PB_NE_Hub/models\r\n"
     ]
    }
   ],
   "source": [
    "#!pwd"
   ]
  },
  {
   "cell_type": "markdown",
   "metadata": {},
   "source": [
    "## Create Model"
   ]
  },
  {
   "cell_type": "code",
   "execution_count": 17,
   "metadata": {
    "ExecuteTime": {
     "end_time": "2019-02-22T07:07:49.972661Z",
     "start_time": "2019-02-22T07:07:49.969355Z"
    }
   },
   "outputs": [],
   "source": [
    "# Import of the pyomo module\n",
    "from __future__ import division\n",
    "from pyomo.environ import *\n",
    "# Creation of a Concrete Model\n",
    "model = AbstractModel()"
   ]
  },
  {
   "cell_type": "markdown",
   "metadata": {},
   "source": [
    "## Declare Constant"
   ]
  },
  {
   "cell_type": "code",
   "execution_count": 18,
   "metadata": {
    "ExecuteTime": {
     "end_time": "2019-02-22T07:07:50.754868Z",
     "start_time": "2019-02-22T07:07:50.749395Z"
    }
   },
   "outputs": [],
   "source": [
    "# declare constant\n",
    "M=100000000\n",
    "model.Max_Capital_Cost=Param(within=NonNegativeReals)\n",
    "model.Mile_Cost=Param(within=NonNegativeReals)\n",
    "model.Truck_Size=Param(within=NonNegativeReals)\n",
    "###need input\n",
    "model.Load_Cost=Param(within=NonNegativeReals)\n",
    "###need input\n",
    "model.Unload_Cost=Param(within=NonNegativeReals)\n",
    "model.Hops=Param(within=NonNegativeIntegers)\n",
    "model.Fixed_Trucks_Cost=Param(within=NonNegativeReals)\n",
    "\n",
    "\n",
    "\n"
   ]
  },
  {
   "cell_type": "markdown",
   "metadata": {},
   "source": [
    "## Declare Set"
   ]
  },
  {
   "cell_type": "code",
   "execution_count": 19,
   "metadata": {
    "ExecuteTime": {
     "end_time": "2019-02-22T07:07:51.465819Z",
     "start_time": "2019-02-22T07:07:51.457785Z"
    }
   },
   "outputs": [],
   "source": [
    "# declare set\n",
    "## Define sets ##\n",
    "#  Sets\n",
    "#       L   All location   / Syracuse, NY, Buffalo, Elizabeth, Ithaca /\n",
    "#       I   Customer warehouse          / Syracuse / ;\n",
    "#       J   PB facility   /  NY, Buffalo, Elizabeth /\n",
    "#       K   USPS or Courier hubs          / Ithaca / ;\n",
    "#       I   Customer warehouse          / Syracuse / ;\n",
    "#       h   hops day  /  0,1,2 / ;\n",
    "#       S   PB facility sizes         / small, medium, large / ;\n",
    "#       T   PB facility types   /  deliver, return, both / ;\n",
    "#       F   PB facility features         / ingest, both / ;\n",
    "def counthops (model):\n",
    "    return(i for i in range(0,model.Hops+1))\n",
    "model.H=Set(initialize=counthops)\n",
    "def counthops1 (model):\n",
    "    return(i for i in range(1,model.Hops+1))\n",
    "model.H1=Set(initialize=counthops1)\n",
    "\n",
    "model.MaxH=Set()\n",
    "model.L=Set()\n",
    "model.I=Set()\n",
    "model.J=Set()\n",
    "model.K=Set()\n",
    "model.S=Set()\n",
    "model.T=Set()\n",
    "model.F=Set()\n",
    "\n"
   ]
  },
  {
   "cell_type": "markdown",
   "metadata": {},
   "source": [
    "## Declare Parameters"
   ]
  },
  {
   "cell_type": "code",
   "execution_count": 20,
   "metadata": {
    "ExecuteTime": {
     "end_time": "2019-02-22T07:07:52.438101Z",
     "start_time": "2019-02-22T07:07:52.429829Z"
    }
   },
   "outputs": [],
   "source": [
    "## Define parameters ##\n",
    "#   Parameters\n",
    "#       capacity(j,s,t,f)  amount of capital needed to build a hub at location J, size S, type T, feature F;\n",
    "#       utility(j,s,t,f) Operating cost for a hub;\n",
    "#       distance(l,l') distance between location l and location l';\n",
    "#       hub_capacity(s) hub capacity of different size;\n",
    "#       deliver(i,k)  the number of deliver packages from i to k;\n",
    "#       repackage(k,i)  the number of return packages from k to i;\n",
    "#       sorting(j)      the sorting cost in location j\n",
    "\n",
    "model.capital = Param(model.J,model.S)\n",
    "\n",
    "model.utility = Param(model.J,model.S)\n",
    "\n",
    "model.distance = Param(model.L,model.L)\n",
    "\n",
    "model.hub_capacity=Param(model.S)\n",
    "\n",
    "model.package = Param(model.I|model.K,model.I|model.K)\n",
    "\n",
    "model.sorting = Param(model.J)\n",
    "\n",
    "def max_trans_cost_init(model,l,l1):\n",
    "    return max(model.Fixed_Trucks_Cost, model.distance[l,l1]*model.Mile_Cost)\n",
    "model.max_trans_cost = Param(model.L,model.L,initialize = max_trans_cost_init)\n",
    "\n",
    "\n",
    "\n",
    "\n"
   ]
  },
  {
   "cell_type": "markdown",
   "metadata": {},
   "source": [
    "## Declare Variable"
   ]
  },
  {
   "cell_type": "code",
   "execution_count": 21,
   "metadata": {
    "ExecuteTime": {
     "end_time": "2019-02-22T07:07:53.228905Z",
     "start_time": "2019-02-22T07:07:53.223255Z"
    }
   },
   "outputs": [],
   "source": [
    "## Define variables ##\n",
    "#  Variables\n",
    "#       y(j,s,t,f)  Binary variable indicates whether to open a facility\n",
    "#       truck(l,l)       the number of truck from l to l ;\n",
    "#       n(l,l',l'',h)   the number of packages at current location l \n",
    "                     #going to location l' next, with a final destination of l'' and h hops left.\n",
    "model.y=Var(model.J,model.S,model.T,model.F, within=Binary)\n",
    "model.truck=Var(model.L,model.L, within=NonNegativeIntegers)\n",
    "model.n=Var(model.L,model.L,model.I|model.K,model.H, within=NonNegativeReals)\n"
   ]
  },
  {
   "cell_type": "markdown",
   "metadata": {},
   "source": [
    "## Objective Function"
   ]
  },
  {
   "cell_type": "code",
   "execution_count": 22,
   "metadata": {
    "ExecuteTime": {
     "end_time": "2019-02-22T07:07:54.035592Z",
     "start_time": "2019-02-22T07:07:54.024283Z"
    }
   },
   "outputs": [],
   "source": [
    "# operations cost + transportation cost\n",
    "#(2)\n",
    "#(3)\n",
    "#(4)\n",
    "def obj_expression(model):\n",
    "    utility_cost=sum((model.utility[j,s] * model.y[j,s,t,f]) for j in model.J for s in model.S for t in model.T for f in model.F)\n",
    "    loading_cost=sum((model.Load_Cost * model.n[j,l,l1,h]) for j in model.J for l in model.L for l1 in (model.I|model.K) for h in model.H)\n",
    "    unloading_cost=sum((model.Unload_Cost * model.n[l,j,l1,h]) for l in model.L for j in model.J for l1 in (model.I|model.K) for h in model.H) \n",
    "    sorting_cost=sum((model.sorting[j] * model.n[j,k,k,h]) for j in model.J for k in model.K for h in model.H) \n",
    "    transportation_cost=sum((model.max_trans_cost[l,l1] * model.truck[l,l1]) for l in model.L for l1 in model.L) #(3)\n",
    "    return utility_cost + loading_cost + unloading_cost + sorting_cost + transportation_cost\n",
    "model.OBJ = Objective(rule=obj_expression, sense = minimize, doc='Define objective function')"
   ]
  },
  {
   "cell_type": "markdown",
   "metadata": {},
   "source": [
    "## Constraints"
   ]
  },
  {
   "cell_type": "code",
   "execution_count": 23,
   "metadata": {
    "ExecuteTime": {
     "end_time": "2019-02-22T07:07:54.707757Z",
     "start_time": "2019-02-22T07:07:54.702070Z"
    }
   },
   "outputs": [],
   "source": [
    "## Define contrains ##\n",
    "# capital_constrains   the sum of the capital cost\n",
    "\n",
    "#(1)\n",
    "def capital_constraints(model):\n",
    "    return (sum(model.capital[j,s]*model.y[j,s,t,f] for j in model.J for s in model.S for t in model.T for f in model.F)<=model.Max_Capital_Cost)\n",
    "model.max_cap = Constraint( rule = capital_constraints, doc = \"max capital constraint\")\n",
    "\n"
   ]
  },
  {
   "cell_type": "code",
   "execution_count": 24,
   "metadata": {
    "ExecuteTime": {
     "end_time": "2019-02-22T07:07:55.239413Z",
     "start_time": "2019-02-22T07:07:55.234021Z"
    }
   },
   "outputs": [],
   "source": [
    "#(5)\n",
    "def truck_size_constraints(model,l,l1):\n",
    "    return (sum(model.n[l,l1,l2,h] for l2 in model.I|model.K for h in model.H)<=model.Truck_Size*model.truck[l,l1])\n",
    "model.truck_size_con = Constraint(model.L,model.L,rule = truck_size_constraints, doc = \"truck size constraint\")"
   ]
  },
  {
   "cell_type": "code",
   "execution_count": 25,
   "metadata": {
    "ExecuteTime": {
     "end_time": "2019-02-22T07:07:55.629062Z",
     "start_time": "2019-02-22T07:07:55.623222Z"
    }
   },
   "outputs": [],
   "source": [
    "#(6)\n",
    "def inbound_equal_rule(model, j, h, l1):\n",
    "      return (sum(model.n[l,j,l1,h] for l in model.L)\n",
    "          == sum(model.n[j,l2,l1,h-1] for l2 in model.L))\n",
    "model.inbound_equal = Constraint(model.J,model.H1,model.I|model.K, rule = inbound_equal_rule, doc = \"inbound package equal\")"
   ]
  },
  {
   "cell_type": "code",
   "execution_count": 26,
   "metadata": {
    "ExecuteTime": {
     "end_time": "2019-02-22T07:07:56.052958Z",
     "start_time": "2019-02-22T07:07:56.047266Z"
    }
   },
   "outputs": [],
   "source": [
    "#(7)\n",
    "#2nd demand contransts\n",
    "def initialization_demand_rule(model,l,l1,h):\n",
    "    if l == l1:\n",
    "        return Constraint.Skip\n",
    "    return (sum(model.n[l,j,l1,h] for j in model.J) == model.package[l,l1])\n",
    "model.initialization_demand = Constraint(model.I|model.K,model.I|model.K,model.MaxH,rule = initialization_demand_rule)"
   ]
  },
  {
   "cell_type": "code",
   "execution_count": 27,
   "metadata": {
    "ExecuteTime": {
     "end_time": "2019-02-22T07:07:56.604764Z",
     "start_time": "2019-02-22T07:07:56.599373Z"
    }
   },
   "outputs": [],
   "source": [
    "#(8)\n",
    "def destination_demand_rule(model, l):\n",
    "    return (sum(model.n[j,l,l,h] for j in model.J for h in model.H) == sum(model.package[l1,l] for l1 in model.I|model.K))\n",
    "model.destination_demand_rule = Constraint(model.I|model.K, rule=destination_demand_rule)"
   ]
  },
  {
   "cell_type": "code",
   "execution_count": 28,
   "metadata": {
    "ExecuteTime": {
     "end_time": "2019-02-22T07:07:57.140710Z",
     "start_time": "2019-02-22T07:07:57.135662Z"
    }
   },
   "outputs": [],
   "source": [
    "#(9)\n",
    "def num_of_hubs_opened_perlocation(model,j):\n",
    "    return(sum(model.y[j,s,t,f] for s in model.S for t in model.T for f in model.F)<=1)\n",
    "model.num=Constraint(model.J,rule=num_of_hubs_opened_perlocation,doc=\"constraint on num of hubs opened per location\")"
   ]
  },
  {
   "cell_type": "code",
   "execution_count": 29,
   "metadata": {
    "ExecuteTime": {
     "end_time": "2019-02-22T07:07:57.903259Z",
     "start_time": "2019-02-22T07:07:57.895699Z"
    }
   },
   "outputs": [],
   "source": [
    "#(10)\n",
    "def delivery_hub_rule(model,j,k,l):\n",
    "    return (sum(model.n[l,j,k,h] for h in model.H)\n",
    "           <= (M * sum(model.y[j,s,'deliver',f]+model.y[j,s,'both',f] for s in model.S for f in model.F)))\n",
    "model.delivery_hub = Constraint(model.J,model.K,model.I|model.J, rule = delivery_hub_rule, doc = \"ensure delivery packages handled by delivery hub\")"
   ]
  },
  {
   "cell_type": "code",
   "execution_count": 30,
   "metadata": {
    "ExecuteTime": {
     "end_time": "2019-02-22T07:07:58.445534Z",
     "start_time": "2019-02-22T07:07:58.439752Z"
    }
   },
   "outputs": [],
   "source": [
    "#(11)\n",
    "def delivery_sort_hub_rule(model,j,k):\n",
    "    return (sum(model.n[j,k,k,h] for h in model.H)\n",
    "           <= (M * sum(model.y[j,s,'deliver','both']+model.y[j,s,'both','both'] for s in model.S)))\n",
    "model.delivery_sort_hub = Constraint(model.J,model.K, rule = delivery_sort_hub_rule, doc = \"ensure last delivery packages handled by sort-delivery hub\")"
   ]
  },
  {
   "cell_type": "code",
   "execution_count": 31,
   "metadata": {
    "ExecuteTime": {
     "end_time": "2019-02-22T07:07:58.686069Z",
     "start_time": "2019-02-22T07:07:58.679817Z"
    }
   },
   "outputs": [],
   "source": [
    "#(12)\n",
    "def return_hub_rule(model,i,j,k,l):\n",
    "    return (sum(model.n[l,j,i,h] for h in model.H)\n",
    "           <= (M * sum(model.y[j,s,'return',f]+model.y[j,s,'both',f] for s in model.S for f in model.F)))\n",
    "model.return_hub = Constraint(model.I,model.J,model.K,model.L, rule = return_hub_rule, doc = \"ensure return packages handled by return hub\")"
   ]
  },
  {
   "cell_type": "code",
   "execution_count": 32,
   "metadata": {
    "ExecuteTime": {
     "end_time": "2019-02-22T07:07:58.933009Z",
     "start_time": "2019-02-22T07:07:58.927000Z"
    }
   },
   "outputs": [],
   "source": [
    "#(13)\n",
    "def hub_capacity_constraint(model,j):\n",
    "    return sum(model.n[l,j,l1,h] for l in model.L for l1 in model.I|model.K for h in model.H)<=sum(model.hub_capacity[s]*model.y[j,s,t,f] for s in model.S for t in model.T for f in model.F)\n",
    "model.hub_capacity_constraint=Constraint(model.J, rule=hub_capacity_constraint,doc=\"hub capacity constraint\")"
   ]
  },
  {
   "cell_type": "code",
   "execution_count": null,
   "metadata": {},
   "outputs": [],
   "source": []
  }
 ],
 "metadata": {
  "kernelspec": {
   "display_name": "Python 3",
   "language": "python",
   "name": "python3"
  },
  "language_info": {
   "codemirror_mode": {
    "name": "ipython",
    "version": 3
   },
   "file_extension": ".py",
   "mimetype": "text/x-python",
   "name": "python",
   "nbconvert_exporter": "python",
   "pygments_lexer": "ipython3",
   "version": "3.6.7"
  }
 },
 "nbformat": 4,
 "nbformat_minor": 2
}
