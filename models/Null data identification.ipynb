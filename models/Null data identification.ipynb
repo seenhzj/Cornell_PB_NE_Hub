{
 "cells": [
  {
   "cell_type": "code",
   "execution_count": 8,
   "metadata": {
    "ExecuteTime": {
     "end_time": "2019-02-27T20:48:49.316997Z",
     "start_time": "2019-02-27T20:48:47.438895Z"
    }
   },
   "outputs": [],
   "source": [
    "!pip install sqlalchemy pymysql -q"
   ]
  },
  {
   "cell_type": "code",
   "execution_count": 9,
   "metadata": {
    "ExecuteTime": {
     "end_time": "2019-02-27T20:48:51.281263Z",
     "start_time": "2019-02-27T20:48:49.319789Z"
    }
   },
   "outputs": [],
   "source": [
    "!pip install sqlalchemy sql_magic -q"
   ]
  },
  {
   "cell_type": "code",
   "execution_count": 10,
   "metadata": {
    "ExecuteTime": {
     "end_time": "2019-02-27T20:48:51.289246Z",
     "start_time": "2019-02-27T20:48:51.284091Z"
    }
   },
   "outputs": [
    {
     "name": "stdout",
     "output_type": "stream",
     "text": [
      "The sql_magic extension is already loaded. To reload it, use:\n",
      "  %reload_ext sql_magic\n"
     ]
    }
   ],
   "source": [
    "%load_ext sql_magic"
   ]
  },
  {
   "cell_type": "code",
   "execution_count": 11,
   "metadata": {
    "ExecuteTime": {
     "end_time": "2019-02-27T20:48:56.820147Z",
     "start_time": "2019-02-27T20:48:56.815131Z"
    }
   },
   "outputs": [
    {
     "name": "stdout",
     "output_type": "stream",
     "text": [
      "The sql_magic extension is already loaded. To reload it, use:\n",
      "  %reload_ext sql_magic\n"
     ]
    }
   ],
   "source": [
    "%load_ext sql_magic"
   ]
  },
  {
   "cell_type": "code",
   "execution_count": 12,
   "metadata": {
    "ExecuteTime": {
     "end_time": "2019-02-27T20:48:57.483875Z",
     "start_time": "2019-02-27T20:48:57.478849Z"
    }
   },
   "outputs": [
    {
     "name": "stderr",
     "output_type": "stream",
     "text": [
      "UsageError: Line magic function `%sql` not found.\n"
     ]
    }
   ],
   "source": [
    "%sql"
   ]
  },
  {
   "cell_type": "code",
   "execution_count": 13,
   "metadata": {
    "ExecuteTime": {
     "end_time": "2019-02-27T20:48:58.160386Z",
     "start_time": "2019-02-27T20:48:58.157169Z"
    }
   },
   "outputs": [],
   "source": [
    "import pandas as pd\n",
    "import numpy as np"
   ]
  },
  {
   "cell_type": "code",
   "execution_count": 18,
   "metadata": {
    "ExecuteTime": {
     "end_time": "2019-02-27T20:49:47.251911Z",
     "start_time": "2019-02-27T20:49:47.247962Z"
    }
   },
   "outputs": [],
   "source": [
    "user=\"cornell\"\n",
    "password=\"Pitney@1a\"\n",
    "host=\"gec-dwh.ctz5iw1v2fh7.us-west-2.rds.amazonaws.com\"\n",
    "db=\"cornell\"\n",
    "\n",
    "conn = f\"mysql+pymysql://{user}:{password}@{host}/{db}\""
   ]
  },
  {
   "cell_type": "code",
   "execution_count": 19,
   "metadata": {
    "ExecuteTime": {
     "end_time": "2019-02-27T20:49:48.234370Z",
     "start_time": "2019-02-27T20:49:48.230421Z"
    }
   },
   "outputs": [],
   "source": [
    "from sqlalchemy import create_engine\n",
    "\n",
    "engine = create_engine(f\"mysql+pymysql://{user}:{password}@{host}/{db}\")"
   ]
  },
  {
   "cell_type": "code",
   "execution_count": 21,
   "metadata": {
    "ExecuteTime": {
     "end_time": "2019-02-27T20:49:49.691992Z",
     "start_time": "2019-02-27T20:49:49.615765Z"
    }
   },
   "outputs": [
    {
     "name": "stdout",
     "output_type": "stream",
     "text": [
      "('information_schema',)\n",
      "('cornell',)\n"
     ]
    }
   ],
   "source": [
    "result = engine.execute('show databases')\n",
    "for _r in result:\n",
    "    print(_r)"
   ]
  },
  {
   "cell_type": "code",
   "execution_count": 22,
   "metadata": {
    "ExecuteTime": {
     "end_time": "2019-02-27T20:49:50.286676Z",
     "start_time": "2019-02-27T20:49:50.263295Z"
    }
   },
   "outputs": [
    {
     "name": "stdout",
     "output_type": "stream",
     "text": [
      "('deliver_package_info',)\n",
      "('input_df',)\n",
      "('ne_delivery_data_by_day_2018',)\n",
      "('ne_returns_data_by_day_2018',)\n",
      "('return_package_info',)\n",
      "('return_package_info_update',)\n",
      "('test_df',)\n"
     ]
    }
   ],
   "source": [
    "result = engine.execute('show tables in cornell')\n",
    "for _r in result:\n",
    "    print(_r)"
   ]
  },
  {
   "cell_type": "code",
   "execution_count": 23,
   "metadata": {
    "ExecuteTime": {
     "end_time": "2019-02-27T20:50:15.189759Z",
     "start_time": "2019-02-27T20:50:00.380598Z"
    }
   },
   "outputs": [
    {
     "name": "stdout",
     "output_type": "stream",
     "text": [
      "('', '01460')\n",
      "('', '02379')\n",
      "('', '03053')\n",
      "('', '07032')\n",
      "('', '07094')\n",
      "('', '07836')\n",
      "('', '08817')\n",
      "('', '08831')\n",
      "('', '08837')\n",
      "('', '11096')\n",
      "('', '11102')\n",
      "('', '11413')\n",
      "('', '11514')\n",
      "('', '14214')\n",
      "('', '15672')\n",
      "('', '16368')\n",
      "('', '17022')\n",
      "('', '17055')\n",
      "('', '17402')\n",
      "('', '17527')\n",
      "('', '17554')\n",
      "('', '17699')\n",
      "('', '18015')\n",
      "('', '18101')\n",
      "('', '18640')\n",
      "('', '18702')\n",
      "('', '21057')\n",
      "('', '21130')\n",
      "('', '21704')\n",
      "('', '21801')\n",
      "('', '23230')\n",
      "('', '27801')\n",
      "('', '30349')\n",
      "('', '46037')\n",
      "('', '52404')\n",
      "('', '75039')\n",
      "('', '76177')\n",
      "('', '92407')\n",
      "('', '92551')\n",
      "('', '93012')\n"
     ]
    }
   ],
   "source": [
    "result = engine.execute('select originfacilityzip,destinationfacilityzip from cornell.ne_returns_data_by_day_2018 where originfacilityzip = \"''\" or destinationfacilityzip=\"''\" group by originfacilityzip,destinationfacilityzip')\n",
    "for _r in result:\n",
    "    print(_r)"
   ]
  },
  {
   "cell_type": "code",
   "execution_count": 24,
   "metadata": {
    "ExecuteTime": {
     "end_time": "2019-02-27T20:56:05.486583Z",
     "start_time": "2019-02-27T20:50:15.192118Z"
    }
   },
   "outputs": [
    {
     "name": "stdout",
     "output_type": "stream",
     "text": [
      "('06037', '')\n",
      "('06492', '')\n",
      "('08837', '')\n",
      "('11096', '')\n",
      "('11111', '')\n",
      "('15122', '')\n",
      "('17015', '')\n",
      "('17055', '')\n",
      "('19605', '')\n",
      "('30349', '')\n",
      "('43068', '')\n",
      "('46037', '')\n",
      "('78746', '')\n",
      "('\\\\N', '')\n"
     ]
    }
   ],
   "source": [
    "result = engine.execute('select originfacilityzip,destinationfacilityzip from cornell.ne_delivery_data_by_day_2018 where originfacilityzip = \"''\" or destinationfacilityzip = \"''\" group by originfacilityzip,destinationfacilityzip limit 30')\n",
    "for _r in result:\n",
    "    print(_r)"
   ]
  },
  {
   "cell_type": "code",
   "execution_count": null,
   "metadata": {},
   "outputs": [],
   "source": []
  }
 ],
 "metadata": {
  "kernelspec": {
   "display_name": "Python 3",
   "language": "python",
   "name": "python3"
  },
  "language_info": {
   "codemirror_mode": {
    "name": "ipython",
    "version": 3
   },
   "file_extension": ".py",
   "mimetype": "text/x-python",
   "name": "python",
   "nbconvert_exporter": "python",
   "pygments_lexer": "ipython3",
   "version": "3.6.7"
  }
 },
 "nbformat": 4,
 "nbformat_minor": 2
}
