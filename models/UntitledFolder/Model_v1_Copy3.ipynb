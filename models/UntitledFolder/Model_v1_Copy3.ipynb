{
 "cells": [
  {
   "cell_type": "markdown",
   "metadata": {},
   "source": [
    "## Model Version 1"
   ]
  },
  {
   "cell_type": "code",
   "execution_count": 1,
   "metadata": {
    "ExecuteTime": {
     "end_time": "2019-02-07T21:45:50.858474Z",
     "start_time": "2019-02-07T21:45:48.959121Z"
    },
    "scrolled": false
   },
   "outputs": [
    {
     "name": "stdout",
     "output_type": "stream",
     "text": [
      "Requirement already satisfied: pyomo in /opt/conda/lib/python3.6/site-packages (5.6)\r\n",
      "Requirement already satisfied: PyUtilib>=5.6.4 in /opt/conda/lib/python3.6/site-packages (from pyomo) (5.6.4)\r\n",
      "Requirement already satisfied: appdirs in /opt/conda/lib/python3.6/site-packages (from pyomo) (1.4.3)\r\n",
      "Requirement already satisfied: ply in /opt/conda/lib/python3.6/site-packages (from pyomo) (3.11)\r\n",
      "Requirement already satisfied: six>=1.4 in /opt/conda/lib/python3.6/site-packages (from pyomo) (1.11.0)\r\n",
      "Requirement already satisfied: nose in /opt/conda/lib/python3.6/site-packages (from PyUtilib>=5.6.4->pyomo) (1.3.7)\r\n"
     ]
    }
   ],
   "source": [
    "#! pip install pyomo"
   ]
  },
  {
   "cell_type": "code",
   "execution_count": 36,
   "metadata": {
    "ExecuteTime": {
     "end_time": "2019-02-16T21:23:48.046290Z",
     "start_time": "2019-02-16T21:23:47.780057Z"
    },
    "scrolled": true
   },
   "outputs": [
    {
     "name": "stdout",
     "output_type": "stream",
     "text": [
      "/home/fusion/jupyterhub-notebooks/Cornell_PB_NE_Hub/models\r\n"
     ]
    }
   ],
   "source": [
    "#!pwd"
   ]
  },
  {
   "cell_type": "markdown",
   "metadata": {},
   "source": [
    "## Create Model"
   ]
  },
  {
   "cell_type": "code",
   "execution_count": 10,
   "metadata": {
    "ExecuteTime": {
     "end_time": "2019-02-28T23:21:20.560432Z",
     "start_time": "2019-02-28T23:20:10.327498Z"
    }
   },
   "outputs": [
    {
     "data": {
      "text/plain": [
       "{'Problem': [{'Name': 'unknown', 'Lower bound': 1235126.0, 'Upper bound': 1235126.0, 'Number of objectives': 1, 'Number of constraints': 14108, 'Number of variables': 20833, 'Number of nonzeros': 233993, 'Sense': 'minimize'}], 'Solver': [{'Status': 'ok', 'Termination condition': 'optimal', 'Statistics': {'Branch and bound': {'Number of bounded subproblems': '1787', 'Number of created subproblems': '1787'}}, 'Error rc': 0, 'Time': 63.73444747924805}], 'Solution': [OrderedDict([('number of solutions', 0), ('number of solutions displayed', 0)])]}"
      ]
     },
     "execution_count": 10,
     "metadata": {},
     "output_type": "execute_result"
    }
   ],
   "source": [
    "# Import of the pyomo module\n",
    "import pandas as pd\n",
    "import pyomo.opt\n",
    "from pyomo.environ import *\n",
    "\n",
    "from Model_v1_Copy2 import model\n",
    "opt = pyomo.opt.SolverFactory(\"glpk\")\n",
    "#create model instance\n",
    "instance = model.create_instance('/home/fusion/jupyterhub-notebooks/Cornell_PB_NE_Hub/models/UntitledFolder/Data_demo-Copy1.dat')\n",
    "#apply solver\n",
    "opt.solve(instance)"
   ]
  },
  {
   "cell_type": "code",
   "execution_count": 12,
   "metadata": {
    "ExecuteTime": {
     "end_time": "2019-02-28T23:26:30.430718Z",
     "start_time": "2019-02-28T23:26:30.420643Z"
    }
   },
   "outputs": [],
   "source": [
    "def get_flow(instance):\n",
    "    \n",
    "    start=[]\n",
    "    nextdest=[]\n",
    "    destination=[]\n",
    "    hops=[]\n",
    "    volume=[]\n",
    "    \n",
    "    for v in instance.component_objects(Var, active=True):\n",
    "        varobject = getattr(instance, str(v))\n",
    "        if(varobject.name=='n'):\n",
    "            for index in varobject:\n",
    "                pkg=varobject[index].value\n",
    "#                 if pkg > 0:\n",
    "                start.append(str(index[0]))\n",
    "                nextdest.append(str(index[1]))\n",
    "                destination.append(str(index[2]))\n",
    "                hops.append(str(index[3]))\n",
    "                volume.append(round(pkg))\n",
    "    \n",
    "    flow_matrix = pd.DataFrame({'start':start,'next':nextdest,'Client':destination,'hops':hops,'Packages':volume})\n",
    "    return flow_matrix"
   ]
  },
  {
   "cell_type": "code",
   "execution_count": 13,
   "metadata": {
    "ExecuteTime": {
     "end_time": "2019-02-28T23:26:33.782071Z",
     "start_time": "2019-02-28T23:26:33.612170Z"
    }
   },
   "outputs": [
    {
     "data": {
      "text/html": [
       "<div>\n",
       "<table border=\"1\" class=\"dataframe\">\n",
       "  <thead>\n",
       "    <tr style=\"text-align: right;\">\n",
       "      <th></th>\n",
       "      <th>Client</th>\n",
       "      <th>Packages</th>\n",
       "      <th>hops</th>\n",
       "      <th>next</th>\n",
       "      <th>start</th>\n",
       "    </tr>\n",
       "  </thead>\n",
       "  <tbody>\n",
       "    <tr>\n",
       "      <th>0</th>\n",
       "      <td>1</td>\n",
       "      <td>0</td>\n",
       "      <td>0</td>\n",
       "      <td>1</td>\n",
       "      <td>1</td>\n",
       "    </tr>\n",
       "    <tr>\n",
       "      <th>1</th>\n",
       "      <td>1</td>\n",
       "      <td>0</td>\n",
       "      <td>1</td>\n",
       "      <td>1</td>\n",
       "      <td>1</td>\n",
       "    </tr>\n",
       "    <tr>\n",
       "      <th>2</th>\n",
       "      <td>1</td>\n",
       "      <td>0</td>\n",
       "      <td>2</td>\n",
       "      <td>1</td>\n",
       "      <td>1</td>\n",
       "    </tr>\n",
       "    <tr>\n",
       "      <th>3</th>\n",
       "      <td>2</td>\n",
       "      <td>0</td>\n",
       "      <td>0</td>\n",
       "      <td>1</td>\n",
       "      <td>1</td>\n",
       "    </tr>\n",
       "    <tr>\n",
       "      <th>4</th>\n",
       "      <td>2</td>\n",
       "      <td>0</td>\n",
       "      <td>1</td>\n",
       "      <td>1</td>\n",
       "      <td>1</td>\n",
       "    </tr>\n",
       "    <tr>\n",
       "      <th>5</th>\n",
       "      <td>2</td>\n",
       "      <td>0</td>\n",
       "      <td>2</td>\n",
       "      <td>1</td>\n",
       "      <td>1</td>\n",
       "    </tr>\n",
       "    <tr>\n",
       "      <th>6</th>\n",
       "      <td>3</td>\n",
       "      <td>0</td>\n",
       "      <td>0</td>\n",
       "      <td>1</td>\n",
       "      <td>1</td>\n",
       "    </tr>\n",
       "    <tr>\n",
       "      <th>7</th>\n",
       "      <td>3</td>\n",
       "      <td>0</td>\n",
       "      <td>1</td>\n",
       "      <td>1</td>\n",
       "      <td>1</td>\n",
       "    </tr>\n",
       "    <tr>\n",
       "      <th>8</th>\n",
       "      <td>3</td>\n",
       "      <td>0</td>\n",
       "      <td>2</td>\n",
       "      <td>1</td>\n",
       "      <td>1</td>\n",
       "    </tr>\n",
       "    <tr>\n",
       "      <th>9</th>\n",
       "      <td>4</td>\n",
       "      <td>0</td>\n",
       "      <td>0</td>\n",
       "      <td>1</td>\n",
       "      <td>1</td>\n",
       "    </tr>\n",
       "    <tr>\n",
       "      <th>10</th>\n",
       "      <td>4</td>\n",
       "      <td>0</td>\n",
       "      <td>1</td>\n",
       "      <td>1</td>\n",
       "      <td>1</td>\n",
       "    </tr>\n",
       "    <tr>\n",
       "      <th>11</th>\n",
       "      <td>4</td>\n",
       "      <td>0</td>\n",
       "      <td>2</td>\n",
       "      <td>1</td>\n",
       "      <td>1</td>\n",
       "    </tr>\n",
       "    <tr>\n",
       "      <th>12</th>\n",
       "      <td>5</td>\n",
       "      <td>0</td>\n",
       "      <td>0</td>\n",
       "      <td>1</td>\n",
       "      <td>1</td>\n",
       "    </tr>\n",
       "    <tr>\n",
       "      <th>13</th>\n",
       "      <td>5</td>\n",
       "      <td>0</td>\n",
       "      <td>1</td>\n",
       "      <td>1</td>\n",
       "      <td>1</td>\n",
       "    </tr>\n",
       "    <tr>\n",
       "      <th>14</th>\n",
       "      <td>5</td>\n",
       "      <td>0</td>\n",
       "      <td>2</td>\n",
       "      <td>1</td>\n",
       "      <td>1</td>\n",
       "    </tr>\n",
       "    <tr>\n",
       "      <th>15</th>\n",
       "      <td>6</td>\n",
       "      <td>0</td>\n",
       "      <td>0</td>\n",
       "      <td>1</td>\n",
       "      <td>1</td>\n",
       "    </tr>\n",
       "    <tr>\n",
       "      <th>16</th>\n",
       "      <td>6</td>\n",
       "      <td>0</td>\n",
       "      <td>1</td>\n",
       "      <td>1</td>\n",
       "      <td>1</td>\n",
       "    </tr>\n",
       "    <tr>\n",
       "      <th>17</th>\n",
       "      <td>6</td>\n",
       "      <td>0</td>\n",
       "      <td>2</td>\n",
       "      <td>1</td>\n",
       "      <td>1</td>\n",
       "    </tr>\n",
       "    <tr>\n",
       "      <th>18</th>\n",
       "      <td>7</td>\n",
       "      <td>0</td>\n",
       "      <td>0</td>\n",
       "      <td>1</td>\n",
       "      <td>1</td>\n",
       "    </tr>\n",
       "    <tr>\n",
       "      <th>19</th>\n",
       "      <td>7</td>\n",
       "      <td>0</td>\n",
       "      <td>1</td>\n",
       "      <td>1</td>\n",
       "      <td>1</td>\n",
       "    </tr>\n",
       "    <tr>\n",
       "      <th>20</th>\n",
       "      <td>7</td>\n",
       "      <td>0</td>\n",
       "      <td>2</td>\n",
       "      <td>1</td>\n",
       "      <td>1</td>\n",
       "    </tr>\n",
       "    <tr>\n",
       "      <th>21</th>\n",
       "      <td>201</td>\n",
       "      <td>0</td>\n",
       "      <td>0</td>\n",
       "      <td>1</td>\n",
       "      <td>1</td>\n",
       "    </tr>\n",
       "    <tr>\n",
       "      <th>22</th>\n",
       "      <td>201</td>\n",
       "      <td>0</td>\n",
       "      <td>1</td>\n",
       "      <td>1</td>\n",
       "      <td>1</td>\n",
       "    </tr>\n",
       "    <tr>\n",
       "      <th>23</th>\n",
       "      <td>201</td>\n",
       "      <td>0</td>\n",
       "      <td>2</td>\n",
       "      <td>1</td>\n",
       "      <td>1</td>\n",
       "    </tr>\n",
       "    <tr>\n",
       "      <th>24</th>\n",
       "      <td>202</td>\n",
       "      <td>0</td>\n",
       "      <td>0</td>\n",
       "      <td>1</td>\n",
       "      <td>1</td>\n",
       "    </tr>\n",
       "    <tr>\n",
       "      <th>25</th>\n",
       "      <td>202</td>\n",
       "      <td>0</td>\n",
       "      <td>1</td>\n",
       "      <td>1</td>\n",
       "      <td>1</td>\n",
       "    </tr>\n",
       "    <tr>\n",
       "      <th>26</th>\n",
       "      <td>202</td>\n",
       "      <td>0</td>\n",
       "      <td>2</td>\n",
       "      <td>1</td>\n",
       "      <td>1</td>\n",
       "    </tr>\n",
       "    <tr>\n",
       "      <th>27</th>\n",
       "      <td>203</td>\n",
       "      <td>0</td>\n",
       "      <td>0</td>\n",
       "      <td>1</td>\n",
       "      <td>1</td>\n",
       "    </tr>\n",
       "    <tr>\n",
       "      <th>28</th>\n",
       "      <td>203</td>\n",
       "      <td>0</td>\n",
       "      <td>1</td>\n",
       "      <td>1</td>\n",
       "      <td>1</td>\n",
       "    </tr>\n",
       "    <tr>\n",
       "      <th>29</th>\n",
       "      <td>203</td>\n",
       "      <td>0</td>\n",
       "      <td>2</td>\n",
       "      <td>1</td>\n",
       "      <td>1</td>\n",
       "    </tr>\n",
       "    <tr>\n",
       "      <th>...</th>\n",
       "      <td>...</td>\n",
       "      <td>...</td>\n",
       "      <td>...</td>\n",
       "      <td>...</td>\n",
       "      <td>...</td>\n",
       "    </tr>\n",
       "    <tr>\n",
       "      <th>24162</th>\n",
       "      <td>5</td>\n",
       "      <td>0</td>\n",
       "      <td>0</td>\n",
       "      <td>110</td>\n",
       "      <td>110</td>\n",
       "    </tr>\n",
       "    <tr>\n",
       "      <th>24163</th>\n",
       "      <td>5</td>\n",
       "      <td>0</td>\n",
       "      <td>1</td>\n",
       "      <td>110</td>\n",
       "      <td>110</td>\n",
       "    </tr>\n",
       "    <tr>\n",
       "      <th>24164</th>\n",
       "      <td>5</td>\n",
       "      <td>0</td>\n",
       "      <td>2</td>\n",
       "      <td>110</td>\n",
       "      <td>110</td>\n",
       "    </tr>\n",
       "    <tr>\n",
       "      <th>24165</th>\n",
       "      <td>6</td>\n",
       "      <td>0</td>\n",
       "      <td>0</td>\n",
       "      <td>110</td>\n",
       "      <td>110</td>\n",
       "    </tr>\n",
       "    <tr>\n",
       "      <th>24166</th>\n",
       "      <td>6</td>\n",
       "      <td>0</td>\n",
       "      <td>1</td>\n",
       "      <td>110</td>\n",
       "      <td>110</td>\n",
       "    </tr>\n",
       "    <tr>\n",
       "      <th>24167</th>\n",
       "      <td>6</td>\n",
       "      <td>0</td>\n",
       "      <td>2</td>\n",
       "      <td>110</td>\n",
       "      <td>110</td>\n",
       "    </tr>\n",
       "    <tr>\n",
       "      <th>24168</th>\n",
       "      <td>7</td>\n",
       "      <td>0</td>\n",
       "      <td>0</td>\n",
       "      <td>110</td>\n",
       "      <td>110</td>\n",
       "    </tr>\n",
       "    <tr>\n",
       "      <th>24169</th>\n",
       "      <td>7</td>\n",
       "      <td>0</td>\n",
       "      <td>1</td>\n",
       "      <td>110</td>\n",
       "      <td>110</td>\n",
       "    </tr>\n",
       "    <tr>\n",
       "      <th>24170</th>\n",
       "      <td>7</td>\n",
       "      <td>0</td>\n",
       "      <td>2</td>\n",
       "      <td>110</td>\n",
       "      <td>110</td>\n",
       "    </tr>\n",
       "    <tr>\n",
       "      <th>24171</th>\n",
       "      <td>201</td>\n",
       "      <td>0</td>\n",
       "      <td>0</td>\n",
       "      <td>110</td>\n",
       "      <td>110</td>\n",
       "    </tr>\n",
       "    <tr>\n",
       "      <th>24172</th>\n",
       "      <td>201</td>\n",
       "      <td>0</td>\n",
       "      <td>1</td>\n",
       "      <td>110</td>\n",
       "      <td>110</td>\n",
       "    </tr>\n",
       "    <tr>\n",
       "      <th>24173</th>\n",
       "      <td>201</td>\n",
       "      <td>0</td>\n",
       "      <td>2</td>\n",
       "      <td>110</td>\n",
       "      <td>110</td>\n",
       "    </tr>\n",
       "    <tr>\n",
       "      <th>24174</th>\n",
       "      <td>202</td>\n",
       "      <td>0</td>\n",
       "      <td>0</td>\n",
       "      <td>110</td>\n",
       "      <td>110</td>\n",
       "    </tr>\n",
       "    <tr>\n",
       "      <th>24175</th>\n",
       "      <td>202</td>\n",
       "      <td>0</td>\n",
       "      <td>1</td>\n",
       "      <td>110</td>\n",
       "      <td>110</td>\n",
       "    </tr>\n",
       "    <tr>\n",
       "      <th>24176</th>\n",
       "      <td>202</td>\n",
       "      <td>0</td>\n",
       "      <td>2</td>\n",
       "      <td>110</td>\n",
       "      <td>110</td>\n",
       "    </tr>\n",
       "    <tr>\n",
       "      <th>24177</th>\n",
       "      <td>203</td>\n",
       "      <td>0</td>\n",
       "      <td>0</td>\n",
       "      <td>110</td>\n",
       "      <td>110</td>\n",
       "    </tr>\n",
       "    <tr>\n",
       "      <th>24178</th>\n",
       "      <td>203</td>\n",
       "      <td>0</td>\n",
       "      <td>1</td>\n",
       "      <td>110</td>\n",
       "      <td>110</td>\n",
       "    </tr>\n",
       "    <tr>\n",
       "      <th>24179</th>\n",
       "      <td>203</td>\n",
       "      <td>0</td>\n",
       "      <td>2</td>\n",
       "      <td>110</td>\n",
       "      <td>110</td>\n",
       "    </tr>\n",
       "    <tr>\n",
       "      <th>24180</th>\n",
       "      <td>204</td>\n",
       "      <td>0</td>\n",
       "      <td>0</td>\n",
       "      <td>110</td>\n",
       "      <td>110</td>\n",
       "    </tr>\n",
       "    <tr>\n",
       "      <th>24181</th>\n",
       "      <td>204</td>\n",
       "      <td>0</td>\n",
       "      <td>1</td>\n",
       "      <td>110</td>\n",
       "      <td>110</td>\n",
       "    </tr>\n",
       "    <tr>\n",
       "      <th>24182</th>\n",
       "      <td>204</td>\n",
       "      <td>0</td>\n",
       "      <td>2</td>\n",
       "      <td>110</td>\n",
       "      <td>110</td>\n",
       "    </tr>\n",
       "    <tr>\n",
       "      <th>24183</th>\n",
       "      <td>205</td>\n",
       "      <td>0</td>\n",
       "      <td>0</td>\n",
       "      <td>110</td>\n",
       "      <td>110</td>\n",
       "    </tr>\n",
       "    <tr>\n",
       "      <th>24184</th>\n",
       "      <td>205</td>\n",
       "      <td>0</td>\n",
       "      <td>1</td>\n",
       "      <td>110</td>\n",
       "      <td>110</td>\n",
       "    </tr>\n",
       "    <tr>\n",
       "      <th>24185</th>\n",
       "      <td>205</td>\n",
       "      <td>0</td>\n",
       "      <td>2</td>\n",
       "      <td>110</td>\n",
       "      <td>110</td>\n",
       "    </tr>\n",
       "    <tr>\n",
       "      <th>24186</th>\n",
       "      <td>206</td>\n",
       "      <td>0</td>\n",
       "      <td>0</td>\n",
       "      <td>110</td>\n",
       "      <td>110</td>\n",
       "    </tr>\n",
       "    <tr>\n",
       "      <th>24187</th>\n",
       "      <td>206</td>\n",
       "      <td>0</td>\n",
       "      <td>1</td>\n",
       "      <td>110</td>\n",
       "      <td>110</td>\n",
       "    </tr>\n",
       "    <tr>\n",
       "      <th>24188</th>\n",
       "      <td>206</td>\n",
       "      <td>0</td>\n",
       "      <td>2</td>\n",
       "      <td>110</td>\n",
       "      <td>110</td>\n",
       "    </tr>\n",
       "    <tr>\n",
       "      <th>24189</th>\n",
       "      <td>207</td>\n",
       "      <td>0</td>\n",
       "      <td>0</td>\n",
       "      <td>110</td>\n",
       "      <td>110</td>\n",
       "    </tr>\n",
       "    <tr>\n",
       "      <th>24190</th>\n",
       "      <td>207</td>\n",
       "      <td>0</td>\n",
       "      <td>1</td>\n",
       "      <td>110</td>\n",
       "      <td>110</td>\n",
       "    </tr>\n",
       "    <tr>\n",
       "      <th>24191</th>\n",
       "      <td>207</td>\n",
       "      <td>0</td>\n",
       "      <td>2</td>\n",
       "      <td>110</td>\n",
       "      <td>110</td>\n",
       "    </tr>\n",
       "  </tbody>\n",
       "</table>\n",
       "<p>24192 rows × 5 columns</p>\n",
       "</div>"
      ],
      "text/plain": [
       "      Client  Packages hops next start\n",
       "0          1         0    0    1     1\n",
       "1          1         0    1    1     1\n",
       "2          1         0    2    1     1\n",
       "3          2         0    0    1     1\n",
       "4          2         0    1    1     1\n",
       "5          2         0    2    1     1\n",
       "6          3         0    0    1     1\n",
       "7          3         0    1    1     1\n",
       "8          3         0    2    1     1\n",
       "9          4         0    0    1     1\n",
       "10         4         0    1    1     1\n",
       "11         4         0    2    1     1\n",
       "12         5         0    0    1     1\n",
       "13         5         0    1    1     1\n",
       "14         5         0    2    1     1\n",
       "15         6         0    0    1     1\n",
       "16         6         0    1    1     1\n",
       "17         6         0    2    1     1\n",
       "18         7         0    0    1     1\n",
       "19         7         0    1    1     1\n",
       "20         7         0    2    1     1\n",
       "21       201         0    0    1     1\n",
       "22       201         0    1    1     1\n",
       "23       201         0    2    1     1\n",
       "24       202         0    0    1     1\n",
       "25       202         0    1    1     1\n",
       "26       202         0    2    1     1\n",
       "27       203         0    0    1     1\n",
       "28       203         0    1    1     1\n",
       "29       203         0    2    1     1\n",
       "...      ...       ...  ...  ...   ...\n",
       "24162      5         0    0  110   110\n",
       "24163      5         0    1  110   110\n",
       "24164      5         0    2  110   110\n",
       "24165      6         0    0  110   110\n",
       "24166      6         0    1  110   110\n",
       "24167      6         0    2  110   110\n",
       "24168      7         0    0  110   110\n",
       "24169      7         0    1  110   110\n",
       "24170      7         0    2  110   110\n",
       "24171    201         0    0  110   110\n",
       "24172    201         0    1  110   110\n",
       "24173    201         0    2  110   110\n",
       "24174    202         0    0  110   110\n",
       "24175    202         0    1  110   110\n",
       "24176    202         0    2  110   110\n",
       "24177    203         0    0  110   110\n",
       "24178    203         0    1  110   110\n",
       "24179    203         0    2  110   110\n",
       "24180    204         0    0  110   110\n",
       "24181    204         0    1  110   110\n",
       "24182    204         0    2  110   110\n",
       "24183    205         0    0  110   110\n",
       "24184    205         0    1  110   110\n",
       "24185    205         0    2  110   110\n",
       "24186    206         0    0  110   110\n",
       "24187    206         0    1  110   110\n",
       "24188    206         0    2  110   110\n",
       "24189    207         0    0  110   110\n",
       "24190    207         0    1  110   110\n",
       "24191    207         0    2  110   110\n",
       "\n",
       "[24192 rows x 5 columns]"
      ]
     },
     "execution_count": 13,
     "metadata": {},
     "output_type": "execute_result"
    }
   ],
   "source": [
    "df_flow = get_flow(instance)\n",
    "df_flow"
   ]
  },
  {
   "cell_type": "code",
   "execution_count": 14,
   "metadata": {
    "ExecuteTime": {
     "end_time": "2019-02-28T23:26:54.897923Z",
     "start_time": "2019-02-28T23:26:54.816584Z"
    }
   },
   "outputs": [],
   "source": [
    "df_flow.to_csv('flow_matrix.csv')"
   ]
  },
  {
   "cell_type": "markdown",
   "metadata": {},
   "source": [
    "## Declare Constant"
   ]
  },
  {
   "cell_type": "code",
   "execution_count": 2,
   "metadata": {
    "ExecuteTime": {
     "end_time": "2019-02-28T03:24:02.031117Z",
     "start_time": "2019-02-28T03:24:02.020937Z"
    }
   },
   "outputs": [],
   "source": [
    "# declare constant\n",
    "M=100000000\n",
    "model.Max_Capital_Cost=Param(within=NonNegativeReals)\n",
    "model.Mile_Cost=Param(within=NonNegativeReals)\n",
    "model.Truck_Size=Param(within=NonNegativeReals)\n",
    "###need input\n",
    "model.Load_Cost=Param(within=NonNegativeReals)\n",
    "###need input\n",
    "model.Unload_Cost=Param(within=NonNegativeReals)\n",
    "model.Hops=Param(within=NonNegativeIntegers)\n",
    "model.Fixed_Trucks_Cost=Param(within=NonNegativeReals)\n",
    "\n",
    "\n",
    "\n"
   ]
  },
  {
   "cell_type": "markdown",
   "metadata": {},
   "source": [
    "## Declare Set"
   ]
  },
  {
   "cell_type": "code",
   "execution_count": 3,
   "metadata": {
    "ExecuteTime": {
     "end_time": "2019-02-28T03:24:02.939502Z",
     "start_time": "2019-02-28T03:24:02.923462Z"
    }
   },
   "outputs": [],
   "source": [
    "# declare set\n",
    "## Define sets ##\n",
    "#  Sets\n",
    "#       L   All location   / Syracuse, NY, Buffalo, Elizabeth, Ithaca /\n",
    "#       I   Customer warehouse          / Syracuse / ;\n",
    "#       J   PB facility   /  NY, Buffalo, Elizabeth /\n",
    "#       K   USPS or Courier hubs          / Ithaca / ;\n",
    "#       I   Customer warehouse          / Syracuse / ;\n",
    "#       h   hops day  /  0,1,2 / ;\n",
    "#       S   PB facility sizes         / small, medium, large / ;\n",
    "#       T   PB facility types   /  deliver, return, both / ;\n",
    "#       F   PB facility features         / ingest, both / ;\n",
    "def counthops (model):\n",
    "    return(i for i in range(0,model.Hops+1))\n",
    "model.H=Set(initialize=counthops)\n",
    "def counthops1 (model):\n",
    "    return(i for i in range(1,model.Hops+1))\n",
    "model.H1=Set(initialize=counthops1)\n",
    "\n",
    "model.MaxH=Set()\n",
    "model.L=Set()\n",
    "model.I=Set()\n",
    "model.J=Set()\n",
    "model.K=Set()\n",
    "model.S=Set()\n",
    "model.T=Set()\n",
    "model.F=Set()\n",
    "\n"
   ]
  },
  {
   "cell_type": "markdown",
   "metadata": {},
   "source": [
    "## Declare Parameters"
   ]
  },
  {
   "cell_type": "code",
   "execution_count": 4,
   "metadata": {
    "ExecuteTime": {
     "end_time": "2019-02-28T03:24:03.761047Z",
     "start_time": "2019-02-28T03:24:03.747604Z"
    }
   },
   "outputs": [],
   "source": [
    "## Define parameters ##\n",
    "#   Parameters\n",
    "#       capacity(j,s,t,f)  amount of capital needed to build a hub at location J, size S, type T, feature F;\n",
    "#       utility(j,s,t,f) Operating cost for a hub;\n",
    "#       distance(l,l') distance between location l and location l';\n",
    "#       hub_capacity(s) hub capacity of different size;\n",
    "#       deliver(i,k)  the number of deliver packages from i to k;\n",
    "#       repackage(k,i)  the number of return packages from k to i;\n",
    "#       sorting(j)      the sorting cost in location j\n",
    "\n",
    "model.capital = Param(model.J,model.S)\n",
    "\n",
    "model.utility = Param(model.J,model.S)\n",
    "\n",
    "model.distance = Param(model.L,model.L)\n",
    "\n",
    "model.hub_capacity=Param(model.S)\n",
    "\n",
    "model.package = Param(model.I|model.K,model.I|model.K)\n",
    "\n",
    "model.sorting = Param(model.J)\n",
    "\n",
    "def max_trans_cost_init(model,l,l1):\n",
    "    return max(model.Fixed_Trucks_Cost, model.distance[l,l1]*model.Mile_Cost)\n",
    "model.max_trans_cost = Param(model.L,model.L,initialize = max_trans_cost_init)\n",
    "\n",
    "\n",
    "\n",
    "\n"
   ]
  },
  {
   "cell_type": "markdown",
   "metadata": {},
   "source": [
    "## Declare Variable"
   ]
  },
  {
   "cell_type": "code",
   "execution_count": 5,
   "metadata": {
    "ExecuteTime": {
     "end_time": "2019-02-28T03:24:04.477040Z",
     "start_time": "2019-02-28T03:24:04.467069Z"
    }
   },
   "outputs": [],
   "source": [
    "## Define variables ##\n",
    "#  Variables\n",
    "#       y(j,s,t,f)  Binary variable indicates whether to open a facility\n",
    "#       truck(l,l)       the number of truck from l to l ;\n",
    "#       n(l,l',l'',h)   the number of packages at current location l \n",
    "                     #going to location l' next, with a final destination of l'' and h hops left.\n",
    "model.y=Var(model.J,model.S,model.T,model.F, within=Binary)\n",
    "model.truck=Var(model.L,model.L, within=NonNegativeIntegers)\n",
    "model.n=Var(model.L,model.L,model.I|model.K,model.H, within=NonNegativeReals)\n"
   ]
  },
  {
   "cell_type": "markdown",
   "metadata": {},
   "source": [
    "## Objective Function"
   ]
  },
  {
   "cell_type": "code",
   "execution_count": 6,
   "metadata": {
    "ExecuteTime": {
     "end_time": "2019-02-28T03:24:05.138734Z",
     "start_time": "2019-02-28T03:24:05.115843Z"
    }
   },
   "outputs": [],
   "source": [
    "# operations cost + transportation cost\n",
    "#(2)\n",
    "#(3)\n",
    "#(4)\n",
    "def obj_expression(model):\n",
    "    utility_cost=sum((model.utility[j,s] * model.y[j,s,t,f]) for j in model.J for s in model.S for t in model.T for f in model.F)\n",
    "    loading_cost=sum((model.Load_Cost * model.n[j,l,l1,h]) for j in model.J for l in model.L for l1 in (model.I|model.K) for h in model.H)\n",
    "    unloading_cost=sum((model.Unload_Cost * model.n[l,j,l1,h]) for l in model.L for j in model.J for l1 in (model.I|model.K) for h in model.H) \n",
    "    sorting_cost=sum((model.sorting[j] * model.n[j,k,k,h]) for j in model.J for k in model.K for h in model.H) \n",
    "    transportation_cost=sum((model.max_trans_cost[l,l1] * model.truck[l,l1]) for l in model.L for l1 in model.L) #(3)\n",
    "    return utility_cost + loading_cost + unloading_cost + sorting_cost + transportation_cost\n",
    "model.OBJ = Objective(rule=obj_expression, sense = minimize, doc='Define objective function')"
   ]
  },
  {
   "cell_type": "markdown",
   "metadata": {},
   "source": [
    "## Constraints"
   ]
  },
  {
   "cell_type": "code",
   "execution_count": 7,
   "metadata": {
    "ExecuteTime": {
     "end_time": "2019-02-28T03:24:05.846159Z",
     "start_time": "2019-02-28T03:24:05.835776Z"
    }
   },
   "outputs": [],
   "source": [
    "## Define contrains ##\n",
    "# capital_constrains   the sum of the capital cost\n",
    "\n",
    "#(1)\n",
    "def capital_constraints(model):\n",
    "    return (sum(model.capital[j,s]*model.y[j,s,t,f] for j in model.J for s in model.S for t in model.T for f in model.F)<=model.Max_Capital_Cost)\n",
    "model.max_cap = Constraint( rule = capital_constraints, doc = \"max capital constraint\")\n",
    "\n"
   ]
  },
  {
   "cell_type": "code",
   "execution_count": 8,
   "metadata": {
    "ExecuteTime": {
     "end_time": "2019-02-28T03:24:06.301868Z",
     "start_time": "2019-02-28T03:24:06.291267Z"
    }
   },
   "outputs": [],
   "source": [
    "#(5)\n",
    "def truck_size_constraints(model,l,l1):\n",
    "    return (sum(model.n[l,l1,l2,h] for l2 in model.I|model.K for h in model.H)<=model.Truck_Size*model.truck[l,l1])\n",
    "model.truck_size_con = Constraint(model.L,model.L,rule = truck_size_constraints, doc = \"truck size constraint\")"
   ]
  },
  {
   "cell_type": "code",
   "execution_count": 9,
   "metadata": {
    "ExecuteTime": {
     "end_time": "2019-02-28T03:24:06.542171Z",
     "start_time": "2019-02-28T03:24:06.530908Z"
    }
   },
   "outputs": [],
   "source": [
    "#(6)\n",
    "def inbound_equal_rule(model, j, h, l1):\n",
    "      return (sum(model.n[l,j,l1,h] for l in model.L)\n",
    "          == sum(model.n[j,l2,l1,h-1] for l2 in model.L))\n",
    "model.inbound_equal = Constraint(model.J,model.H1,model.I|model.K, rule = inbound_equal_rule, doc = \"inbound package equal\")"
   ]
  },
  {
   "cell_type": "code",
   "execution_count": 10,
   "metadata": {
    "ExecuteTime": {
     "end_time": "2019-02-28T03:24:07.088921Z",
     "start_time": "2019-02-28T03:24:07.082433Z"
    }
   },
   "outputs": [],
   "source": [
    "#(7)\n",
    "#2nd demand contransts\n",
    "def initialization_demand_rule(model,l,l1,h):\n",
    "    if l == l1:\n",
    "        return Constraint.Skip\n",
    "    return (sum(model.n[l,j,l1,h] for j in model.J) == model.package[l,l1])\n",
    "model.initialization_demand = Constraint(model.I|model.K,model.I|model.K,model.MaxH,rule = initialization_demand_rule)"
   ]
  },
  {
   "cell_type": "code",
   "execution_count": 11,
   "metadata": {
    "ExecuteTime": {
     "end_time": "2019-02-28T03:24:07.509373Z",
     "start_time": "2019-02-28T03:24:07.502800Z"
    }
   },
   "outputs": [],
   "source": [
    "#(8)\n",
    "def destination_demand_rule(model, l):\n",
    "    return (sum(model.n[j,l,l,h] for j in model.J for h in model.H) == sum(model.package[l1,l] for l1 in model.I|model.K))\n",
    "model.destination_demand_rule = Constraint(model.I|model.K, rule=destination_demand_rule)"
   ]
  },
  {
   "cell_type": "code",
   "execution_count": 12,
   "metadata": {
    "ExecuteTime": {
     "end_time": "2019-02-28T03:24:07.778297Z",
     "start_time": "2019-02-28T03:24:07.772375Z"
    }
   },
   "outputs": [],
   "source": [
    "#(9)\n",
    "def num_of_hubs_opened_perlocation(model,j):\n",
    "    return(sum(model.y[j,s,t,f] for s in model.S for t in model.T for f in model.F)<=1)\n",
    "model.num=Constraint(model.J,rule=num_of_hubs_opened_perlocation,doc=\"constraint on num of hubs opened per location\")"
   ]
  },
  {
   "cell_type": "code",
   "execution_count": 13,
   "metadata": {
    "ExecuteTime": {
     "end_time": "2019-02-28T03:24:08.026503Z",
     "start_time": "2019-02-28T03:24:08.018773Z"
    }
   },
   "outputs": [],
   "source": [
    "#(10)\n",
    "def delivery_hub_rule(model,j,k,l):\n",
    "    return (sum(model.n[l,j,k,h] for h in model.H)\n",
    "           <= (M * sum(model.y[j,s,'deliver',f]+model.y[j,s,'both',f] for s in model.S for f in model.F)))\n",
    "model.delivery_hub = Constraint(model.J,model.K,model.I|model.J, rule = delivery_hub_rule, doc = \"ensure delivery packages handled by delivery hub\")"
   ]
  },
  {
   "cell_type": "code",
   "execution_count": 14,
   "metadata": {
    "ExecuteTime": {
     "end_time": "2019-02-28T03:24:08.348420Z",
     "start_time": "2019-02-28T03:24:08.341179Z"
    }
   },
   "outputs": [],
   "source": [
    "#(11)\n",
    "def delivery_sort_hub_rule(model,j,k):\n",
    "    return (sum(model.n[j,k,k,h] for h in model.H)\n",
    "           <= (M * sum(model.y[j,s,'deliver','both']+model.y[j,s,'both','both'] for s in model.S)))\n",
    "model.delivery_sort_hub = Constraint(model.J,model.K, rule = delivery_sort_hub_rule, doc = \"ensure last delivery packages handled by sort-delivery hub\")"
   ]
  },
  {
   "cell_type": "code",
   "execution_count": 15,
   "metadata": {
    "ExecuteTime": {
     "end_time": "2019-02-28T03:24:08.592010Z",
     "start_time": "2019-02-28T03:24:08.583721Z"
    }
   },
   "outputs": [],
   "source": [
    "#(12)\n",
    "def return_hub_rule(model,i,j,k,l):\n",
    "    return (sum(model.n[l,j,i,h] for h in model.H)\n",
    "           <= (M * sum(model.y[j,s,'return',f]+model.y[j,s,'both',f] for s in model.S for f in model.F)))\n",
    "model.return_hub = Constraint(model.I,model.J,model.K,model.L, rule = return_hub_rule, doc = \"ensure return packages handled by return hub\")"
   ]
  },
  {
   "cell_type": "code",
   "execution_count": 16,
   "metadata": {
    "ExecuteTime": {
     "end_time": "2019-02-28T03:24:08.889691Z",
     "start_time": "2019-02-28T03:24:08.882012Z"
    }
   },
   "outputs": [],
   "source": [
    "#(13)\n",
    "def hub_capacity_constraint(model,j):\n",
    "    return sum(model.n[l,j,l1,h] for l in model.L for l1 in model.I|model.K for h in model.H)<=sum(model.hub_capacity[s]*model.y[j,s,t,f] for s in model.S for t in model.T for f in model.F)\n",
    "model.hub_capacity_constraint=Constraint(model.J, rule=hub_capacity_constraint,doc=\"hub capacity constraint\")"
   ]
  },
  {
   "cell_type": "code",
   "execution_count": null,
   "metadata": {},
   "outputs": [],
   "source": []
  }
 ],
 "metadata": {
  "kernelspec": {
   "display_name": "Python 3",
   "language": "python",
   "name": "python3"
  },
  "language_info": {
   "codemirror_mode": {
    "name": "ipython",
    "version": 3
   },
   "file_extension": ".py",
   "mimetype": "text/x-python",
   "name": "python",
   "nbconvert_exporter": "python",
   "pygments_lexer": "ipython3",
   "version": "3.6.7"
  }
 },
 "nbformat": 4,
 "nbformat_minor": 2
}
