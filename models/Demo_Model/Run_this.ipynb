{
 "cells": [
  {
   "cell_type": "code",
   "execution_count": null,
   "metadata": {
    "ExecuteTime": {
     "start_time": "2019-03-06T22:24:06.904Z"
    },
    "scrolled": true
   },
   "outputs": [
    {
     "name": "stdout",
     "output_type": "stream",
     "text": [
      "[    0.00] Setting up Pyomo environment\n",
      "[    0.00] Applying Pyomo preprocessing actions\n",
      "[    0.00] Creating model\n",
      "[  400.70] Applying solver\n"
     ]
    }
   ],
   "source": [
    "!cd /home/fusion/jupyterhub-notebooks/Cornell_PB_NE_Hub/models/Demo_Model && pyomo solve Model_v1-Copy1.py Data_demo-Copy2.dat --solver=glpk --summary --stream-solver"
   ]
  }
 ],
 "metadata": {
  "kernelspec": {
   "display_name": "Python 3",
   "language": "python",
   "name": "python3"
  },
  "language_info": {
   "codemirror_mode": {
    "name": "ipython",
    "version": 3
   },
   "file_extension": ".py",
   "mimetype": "text/x-python",
   "name": "python",
   "nbconvert_exporter": "python",
   "pygments_lexer": "ipython3",
   "version": "3.6.7"
  }
 },
 "nbformat": 4,
 "nbformat_minor": 2
}
