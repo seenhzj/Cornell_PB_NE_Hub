{
 "cells": [
  {
   "cell_type": "markdown",
   "metadata": {},
   "source": [
    "### Method 1: Apply solver directly"
   ]
  },
  {
   "cell_type": "code",
   "execution_count": 1,
   "metadata": {
    "ExecuteTime": {
     "end_time": "2019-01-24T15:55:57.051171Z",
     "start_time": "2019-01-24T15:55:54.347784Z"
    },
    "scrolled": false
   },
   "outputs": [
    {
     "name": "stdout",
     "output_type": "stream",
     "text": [
      "[    0.00] Setting up Pyomo environment\n",
      "[    0.00] Applying Pyomo preprocessing actions\n",
      "[    0.00] Creating model\n",
      "[    0.04] Applying solver\n",
      "GLPSOL: GLPK LP/MIP Solver, v4.60\n",
      "Parameter(s) specified in the command line:\n",
      " --write /home/fusion/work/Optimization_model_demo/tmpgapa5s2f.glpk.raw --wglp\n",
      " /home/fusion/work/Optimization_model_demo/tmp3g_2wv9o.glpk.glp --cpxlp /home/fusion/work/Optimization_model_demo/tmpjf2krqac.pyomo.lp\n",
      "Reading problem data from '/home/fusion/work/Optimization_model_demo/tmpjf2krqac.pyomo.lp'...\n",
      "/home/fusion/work/Optimization_model_demo/tmpjf2krqac.pyomo.lp:122: warning: lower bound of variable 'x16' redefined\n",
      "/home/fusion/work/Optimization_model_demo/tmpjf2krqac.pyomo.lp:122: warning: upper bound of variable 'x16' redefined\n",
      "9 rows, 19 columns, 34 non-zeros\n",
      "18 integer variables, 3 of which are binary\n",
      "125 lines were read\n",
      "Writing problem data to '/home/fusion/work/Optimization_model_demo/tmp3g_2wv9o.glpk.glp'...\n",
      "108 lines were written\n",
      "GLPK Integer Optimizer, v4.60\n",
      "9 rows, 19 columns, 34 non-zeros\n",
      "18 integer variables, 3 of which are binary\n",
      "Preprocessing...\n",
      "8 rows, 18 columns, 33 non-zeros\n",
      "18 integer variables, 3 of which are binary\n",
      "Scaling...\n",
      " A: min|aij| =  1.000e+00  max|aij| =  5.000e+02  ratio =  5.000e+02\n",
      "GM: min|aij| =  1.000e+00  max|aij| =  1.000e+00  ratio =  1.000e+00\n",
      "EQ: min|aij| =  1.000e+00  max|aij| =  1.000e+00  ratio =  1.000e+00\n",
      "2N: min|aij| =  9.766e-01  max|aij| =  1.000e+00  ratio =  1.024e+00\n",
      "Constructing initial basis...\n",
      "Size of triangular part is 8\n",
      "Solving LP relaxation...\n",
      "GLPK Simplex Optimizer, v4.60\n",
      "8 rows, 18 columns, 33 non-zeros\n",
      "      0: obj =   0.000000000e+00 inf =   9.400e+02 (5)\n",
      "      9: obj =   6.670000000e+03 inf =   0.000e+00 (0)\n",
      "*    14: obj =   5.210000000e+03 inf =   0.000e+00 (0)\n",
      "OPTIMAL LP SOLUTION FOUND\n",
      "Integer optimization begins...\n",
      "+    14: mip =     not found yet >=              -inf        (1; 0)\n",
      "Solution found by heuristic: 5670\n",
      "+    18: >>>>>   5.610000000e+03 >=   5.610000000e+03   0.0% (3; 0)\n",
      "+    18: mip =   5.610000000e+03 >=     tree is empty   0.0% (0; 5)\n",
      "INTEGER OPTIMAL SOLUTION FOUND\n",
      "Time used:   0.0 secs\n",
      "Memory used: 0.1 Mb (58032 bytes)\n",
      "Writing MIP solution to '/home/fusion/work/Optimization_model_demo/tmpgapa5s2f.glpk.raw'...\n",
      "37 lines were written\n",
      "[    0.07] Processing results\n",
      "    Number of solutions: 1\n",
      "    Solution Information\n",
      "      Gap: 0.0\n",
      "      Status: optimal\n",
      "      Function Value: 5610.0\n",
      "    Solver results file: results.yml\n",
      "\n",
      "==========================================================\n",
      "Solution Summary\n",
      "==========================================================\n",
      "\n",
      "Model unknown\n",
      "\n",
      "  Variables:\n",
      "    x : Size=15, Index=Arcs\n",
      "        Key      : Lower : Value : Upper : Fixed : Stale : Domain\n",
      "        (1, 'a') :     0 :   0.0 :  None : False : False : NonNegativeIntegers\n",
      "        (1, 'b') :     0 :  80.0 :  None : False : False : NonNegativeIntegers\n",
      "        (1, 'c') :     0 :   0.0 :  None : False : False : NonNegativeIntegers\n",
      "        (2, 'a') :     0 :   0.0 :  None : False : False : NonNegativeIntegers\n",
      "        (2, 'b') :     0 : 270.0 :  None : False : False : NonNegativeIntegers\n",
      "        (2, 'c') :     0 :   0.0 :  None : False : False : NonNegativeIntegers\n",
      "        (3, 'a') :     0 :   0.0 :  None : False : False : NonNegativeIntegers\n",
      "        (3, 'b') :     0 : 150.0 :  None : False : False : NonNegativeIntegers\n",
      "        (3, 'c') :     0 : 100.0 :  None : False : False : NonNegativeIntegers\n",
      "        (4, 'a') :     0 :   0.0 :  None : False : False : NonNegativeIntegers\n",
      "        (4, 'b') :     0 :   0.0 :  None : False : False : NonNegativeIntegers\n",
      "        (4, 'c') :     0 : 160.0 :  None : False : False : NonNegativeIntegers\n",
      "        (5, 'a') :     0 :   0.0 :  None : False : False : NonNegativeIntegers\n",
      "        (5, 'b') :     0 :   0.0 :  None : False : False : NonNegativeIntegers\n",
      "        (5, 'c') :     0 : 180.0 :  None : False : False : NonNegativeIntegers\n",
      "    y : Size=3, Index=Facilities\n",
      "        Key : Lower : Value : Upper : Fixed : Stale : Domain\n",
      "          a :     0 :   0.0 :     1 : False : False : Binary\n",
      "          b :     0 :   1.0 :     1 : False : False : Binary\n",
      "          c :     0 :   1.0 :     1 : False : False : Binary\n",
      "\n",
      "  Objectives:\n",
      "    OBJ : Size=1, Index=None, Active=True\n",
      "        Key  : Active : Value\n",
      "        None :   True : 5610.0\n",
      "\n",
      "  Constraints:\n",
      "    DemandConstraint : Size=5\n",
      "        Key : Lower : Body  : Upper\n",
      "          1 :    80 :  80.0 :  None\n",
      "          2 :   270 : 270.0 :  None\n",
      "          3 :   250 : 250.0 :  None\n",
      "          4 :   160 : 160.0 :  None\n",
      "          5 :   180 : 180.0 :  None\n",
      "    CapacityConstraint : Size=3\n",
      "        Key : Lower : Body  : Upper\n",
      "          a :  None :   0.0 :   0.0\n",
      "          b :  None :   0.0 :   0.0\n",
      "          c :  None : -60.0 :   0.0\n",
      "\n",
      "[    0.07] Applying Pyomo postprocessing actions\n",
      "[    0.07] Pyomo Finished\n"
     ]
    }
   ],
   "source": [
    "!cd /home/fusion/work/Optimization_model_demo && pyomo solve Model_demo.py Data_demo.dat --solver=glpk --summary --stream-solver\n"
   ]
  },
  {
   "cell_type": "code",
   "execution_count": null,
   "metadata": {},
   "outputs": [],
   "source": []
  },
  {
   "cell_type": "code",
   "execution_count": null,
   "metadata": {},
   "outputs": [],
   "source": []
  },
  {
   "cell_type": "markdown",
   "metadata": {},
   "source": [
    "### Method 2: Create model instance"
   ]
  },
  {
   "cell_type": "code",
   "execution_count": 3,
   "metadata": {
    "ExecuteTime": {
     "end_time": "2019-02-28T23:17:36.887043Z",
     "start_time": "2019-02-28T23:17:36.882938Z"
    }
   },
   "outputs": [],
   "source": [
    "import pandas as pd\n",
    "import pyomo.opt\n",
    "\n",
    "from pyomo.environ import *"
   ]
  },
  {
   "cell_type": "code",
   "execution_count": 2,
   "metadata": {
    "ExecuteTime": {
     "end_time": "2019-02-28T23:15:57.450423Z",
     "start_time": "2019-02-28T23:15:57.128497Z"
    }
   },
   "outputs": [
    {
     "ename": "ModuleNotFoundError",
     "evalue": "No module named 'Model_demo'",
     "output_type": "error",
     "traceback": [
      "\u001b[0;31m---------------------------------------------------------------------------\u001b[0m",
      "\u001b[0;31mModuleNotFoundError\u001b[0m                       Traceback (most recent call last)",
      "\u001b[0;32m<ipython-input-2-9d06cc51a74d>\u001b[0m in \u001b[0;36m<module>\u001b[0;34m\u001b[0m\n\u001b[0;32m----> 1\u001b[0;31m \u001b[0;32mimport\u001b[0m \u001b[0mModel_demo\u001b[0m\u001b[0;34m\u001b[0m\u001b[0;34m\u001b[0m\u001b[0m\n\u001b[0m",
      "\u001b[0;31mModuleNotFoundError\u001b[0m: No module named 'Model_demo'"
     ]
    }
   ],
   "source": [
    "import Model_demo"
   ]
  },
  {
   "cell_type": "code",
   "execution_count": 4,
   "metadata": {
    "ExecuteTime": {
     "end_time": "2019-01-24T15:56:27.120029Z",
     "start_time": "2019-01-24T15:56:26.957568Z"
    }
   },
   "outputs": [
    {
     "data": {
      "text/plain": [
       "{'Problem': [{'Name': 'unknown', 'Lower bound': 5610.0, 'Upper bound': 5610.0, 'Number of objectives': 1, 'Number of constraints': 9, 'Number of variables': 19, 'Number of nonzeros': 34, 'Sense': 'minimize'}], 'Solver': [{'Status': 'ok', 'Termination condition': 'optimal', 'Statistics': {'Branch and bound': {'Number of bounded subproblems': '5', 'Number of created subproblems': '5'}}, 'Error rc': 0, 'Time': 0.009116888046264648}], 'Solution': [OrderedDict([('number of solutions', 0), ('number of solutions displayed', 0)])]}"
      ]
     },
     "execution_count": 4,
     "metadata": {},
     "output_type": "execute_result"
    }
   ],
   "source": [
    "opt = pyomo.opt.SolverFactory(\"glpk\")\n",
    "#create model instance\n",
    "instance = Model_demo.model.create_instance('/home/fusion/work/Optimization_model_demo/Data_demo.dat')\n",
    "#apply solver\n",
    "opt.solve(instance)"
   ]
  },
  {
   "cell_type": "code",
   "execution_count": 5,
   "metadata": {
    "ExecuteTime": {
     "end_time": "2019-01-24T15:56:32.194571Z",
     "start_time": "2019-01-24T15:56:32.188077Z"
    }
   },
   "outputs": [],
   "source": [
    "#obtain results\n",
    "def get_flow(instance):\n",
    "    \n",
    "    origin=[]\n",
    "    destination=[]\n",
    "    volume=[]\n",
    "    \n",
    "    for v in instance.component_objects(Var, active=True):\n",
    "        varobject = getattr(instance, str(v))\n",
    "        if(varobject.name=='x'):\n",
    "            for index in varobject:\n",
    "                pkg=varobject[index].value\n",
    "#                 if pkg > 0:\n",
    "                origin.append(str(index[0]))\n",
    "                destination.append(str(index[1]))\n",
    "                volume.append(round(pkg))\n",
    "    \n",
    "    flow_matrix = pd.DataFrame({'Facility':origin, 'Client':destination, 'Packages':volume})\n",
    "    return flow_matrix"
   ]
  },
  {
   "cell_type": "code",
   "execution_count": 6,
   "metadata": {
    "ExecuteTime": {
     "end_time": "2019-01-24T15:56:32.875986Z",
     "start_time": "2019-01-24T15:56:32.863875Z"
    }
   },
   "outputs": [
    {
     "data": {
      "text/html": [
       "<div>\n",
       "<table border=\"1\" class=\"dataframe\">\n",
       "  <thead>\n",
       "    <tr style=\"text-align: right;\">\n",
       "      <th></th>\n",
       "      <th>Client</th>\n",
       "      <th>Facility</th>\n",
       "      <th>Packages</th>\n",
       "    </tr>\n",
       "  </thead>\n",
       "  <tbody>\n",
       "    <tr>\n",
       "      <th>0</th>\n",
       "      <td>b</td>\n",
       "      <td>4</td>\n",
       "      <td>0</td>\n",
       "    </tr>\n",
       "    <tr>\n",
       "      <th>1</th>\n",
       "      <td>b</td>\n",
       "      <td>2</td>\n",
       "      <td>270</td>\n",
       "    </tr>\n",
       "    <tr>\n",
       "      <th>2</th>\n",
       "      <td>a</td>\n",
       "      <td>3</td>\n",
       "      <td>0</td>\n",
       "    </tr>\n",
       "    <tr>\n",
       "      <th>3</th>\n",
       "      <td>a</td>\n",
       "      <td>1</td>\n",
       "      <td>0</td>\n",
       "    </tr>\n",
       "    <tr>\n",
       "      <th>4</th>\n",
       "      <td>a</td>\n",
       "      <td>5</td>\n",
       "      <td>0</td>\n",
       "    </tr>\n",
       "    <tr>\n",
       "      <th>5</th>\n",
       "      <td>c</td>\n",
       "      <td>3</td>\n",
       "      <td>100</td>\n",
       "    </tr>\n",
       "    <tr>\n",
       "      <th>6</th>\n",
       "      <td>c</td>\n",
       "      <td>2</td>\n",
       "      <td>0</td>\n",
       "    </tr>\n",
       "    <tr>\n",
       "      <th>7</th>\n",
       "      <td>c</td>\n",
       "      <td>5</td>\n",
       "      <td>180</td>\n",
       "    </tr>\n",
       "    <tr>\n",
       "      <th>8</th>\n",
       "      <td>a</td>\n",
       "      <td>4</td>\n",
       "      <td>0</td>\n",
       "    </tr>\n",
       "    <tr>\n",
       "      <th>9</th>\n",
       "      <td>a</td>\n",
       "      <td>2</td>\n",
       "      <td>0</td>\n",
       "    </tr>\n",
       "    <tr>\n",
       "      <th>10</th>\n",
       "      <td>b</td>\n",
       "      <td>3</td>\n",
       "      <td>150</td>\n",
       "    </tr>\n",
       "    <tr>\n",
       "      <th>11</th>\n",
       "      <td>b</td>\n",
       "      <td>1</td>\n",
       "      <td>80</td>\n",
       "    </tr>\n",
       "    <tr>\n",
       "      <th>12</th>\n",
       "      <td>c</td>\n",
       "      <td>4</td>\n",
       "      <td>160</td>\n",
       "    </tr>\n",
       "    <tr>\n",
       "      <th>13</th>\n",
       "      <td>b</td>\n",
       "      <td>5</td>\n",
       "      <td>0</td>\n",
       "    </tr>\n",
       "    <tr>\n",
       "      <th>14</th>\n",
       "      <td>c</td>\n",
       "      <td>1</td>\n",
       "      <td>0</td>\n",
       "    </tr>\n",
       "  </tbody>\n",
       "</table>\n",
       "</div>"
      ],
      "text/plain": [
       "   Client Facility  Packages\n",
       "0       b        4         0\n",
       "1       b        2       270\n",
       "2       a        3         0\n",
       "3       a        1         0\n",
       "4       a        5         0\n",
       "5       c        3       100\n",
       "6       c        2         0\n",
       "7       c        5       180\n",
       "8       a        4         0\n",
       "9       a        2         0\n",
       "10      b        3       150\n",
       "11      b        1        80\n",
       "12      c        4       160\n",
       "13      b        5         0\n",
       "14      c        1         0"
      ]
     },
     "execution_count": 6,
     "metadata": {},
     "output_type": "execute_result"
    }
   ],
   "source": [
    "df_flow = get_flow(instance)\n",
    "df_flow"
   ]
  },
  {
   "cell_type": "code",
   "execution_count": 7,
   "metadata": {
    "ExecuteTime": {
     "end_time": "2019-01-24T15:56:35.123996Z",
     "start_time": "2019-01-24T15:56:35.119837Z"
    }
   },
   "outputs": [],
   "source": [
    "df_flow.to_csv('flow_matrix.csv')"
   ]
  },
  {
   "cell_type": "code",
   "execution_count": 10,
   "metadata": {
    "ExecuteTime": {
     "end_time": "2019-01-24T15:58:44.440060Z",
     "start_time": "2019-01-24T15:58:44.435886Z"
    }
   },
   "outputs": [
    {
     "ename": "SyntaxError",
     "evalue": "invalid syntax (<ipython-input-10-8a0cc2cf090d>, line 1)",
     "output_type": "error",
     "traceback": [
      "\u001b[0;36m  File \u001b[0;32m\"<ipython-input-10-8a0cc2cf090d>\"\u001b[0;36m, line \u001b[0;32m1\u001b[0m\n\u001b[0;31m    tar chvf notebook.tar.gz *\u001b[0m\n\u001b[0m           ^\u001b[0m\n\u001b[0;31mSyntaxError\u001b[0m\u001b[0;31m:\u001b[0m invalid syntax\n"
     ]
    }
   ],
   "source": [
    "tar chvf notebook.tar.gz *"
   ]
  },
  {
   "cell_type": "code",
   "execution_count": null,
   "metadata": {},
   "outputs": [],
   "source": []
  }
 ],
 "metadata": {
  "kernelspec": {
   "display_name": "Python 3",
   "language": "python",
   "name": "python3"
  },
  "language_info": {
   "codemirror_mode": {
    "name": "ipython",
    "version": 3
   },
   "file_extension": ".py",
   "mimetype": "text/x-python",
   "name": "python",
   "nbconvert_exporter": "python",
   "pygments_lexer": "ipython3",
   "version": "3.6.7"
  }
 },
 "nbformat": 4,
 "nbformat_minor": 2
}
