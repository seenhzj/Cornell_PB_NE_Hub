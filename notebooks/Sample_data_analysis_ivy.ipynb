{
 "cells": [
  {
   "cell_type": "code",
   "execution_count": 18,
   "metadata": {},
   "outputs": [],
   "source": [
    "import pandas as pd\n",
    "from zipfile import ZipFile"
   ]
  },
  {
   "cell_type": "code",
   "execution_count": 19,
   "metadata": {},
   "outputs": [],
   "source": [
    "zip_file = ZipFile('./Sample Delivery Data-FW42-20181217.zip')\n",
    "#zip_file_sep = ZipFile('./PackageLevelDimData-Sep 18.csv.zip')\n",
    "df = pd.read_csv(zip_file.open('Sample Delivery Data-FW42-20181217.csv'))"
   ]
  },
  {
   "cell_type": "code",
   "execution_count": 2,
   "metadata": {},
   "outputs": [],
   "source": [
    "# df_d = pd.read_csv('./Sample Delivery Data-FW42-20181217.csv')"
   ]
  },
  {
   "cell_type": "code",
   "execution_count": 3,
   "metadata": {},
   "outputs": [
    {
     "data": {
      "text/plain": [
       "(1511202, 8)"
      ]
     },
     "execution_count": 3,
     "metadata": {},
     "output_type": "execute_result"
    }
   ],
   "source": [
    "df_d.shape"
   ]
  },
  {
   "cell_type": "code",
   "execution_count": 4,
   "metadata": {},
   "outputs": [
    {
     "data": {
      "text/html": [
       "<div>\n",
       "<style scoped>\n",
       "    .dataframe tbody tr th:only-of-type {\n",
       "        vertical-align: middle;\n",
       "    }\n",
       "\n",
       "    .dataframe tbody tr th {\n",
       "        vertical-align: top;\n",
       "    }\n",
       "\n",
       "    .dataframe thead th {\n",
       "        text-align: right;\n",
       "    }\n",
       "</style>\n",
       "<table border=\"1\" class=\"dataframe\">\n",
       "  <thead>\n",
       "    <tr style=\"text-align: right;\">\n",
       "      <th></th>\n",
       "      <th>OriginDate</th>\n",
       "      <th>PackageType</th>\n",
       "      <th>FwdPackageKey</th>\n",
       "      <th>ActualWeight</th>\n",
       "      <th>OriginFacility</th>\n",
       "      <th>OriginFacilityZip</th>\n",
       "      <th>DestinationFacilityModified</th>\n",
       "      <th>DestinationFacilityZip</th>\n",
       "    </tr>\n",
       "  </thead>\n",
       "  <tbody>\n",
       "    <tr>\n",
       "      <th>0</th>\n",
       "      <td>2018-10-13</td>\n",
       "      <td>Delivery</td>\n",
       "      <td>365429247</td>\n",
       "      <td>0.440</td>\n",
       "      <td>Client - 3177</td>\n",
       "      <td>11096</td>\n",
       "      <td>Courier - Albany</td>\n",
       "      <td>12205.0</td>\n",
       "    </tr>\n",
       "    <tr>\n",
       "      <th>1</th>\n",
       "      <td>2018-10-13</td>\n",
       "      <td>Delivery</td>\n",
       "      <td>365435043</td>\n",
       "      <td>0.030</td>\n",
       "      <td>Client - 3177</td>\n",
       "      <td>11096</td>\n",
       "      <td>Courier - Albany</td>\n",
       "      <td>12205.0</td>\n",
       "    </tr>\n",
       "    <tr>\n",
       "      <th>2</th>\n",
       "      <td>2018-10-13</td>\n",
       "      <td>Delivery</td>\n",
       "      <td>365437849</td>\n",
       "      <td>0.106</td>\n",
       "      <td>Client - 3177</td>\n",
       "      <td>11096</td>\n",
       "      <td>Courier - Plainville</td>\n",
       "      <td>2762.0</td>\n",
       "    </tr>\n",
       "    <tr>\n",
       "      <th>3</th>\n",
       "      <td>2018-10-13</td>\n",
       "      <td>Delivery</td>\n",
       "      <td>365387891</td>\n",
       "      <td>0.888</td>\n",
       "      <td>Client - 3177</td>\n",
       "      <td>11096</td>\n",
       "      <td>Courier - Plainville</td>\n",
       "      <td>2762.0</td>\n",
       "    </tr>\n",
       "    <tr>\n",
       "      <th>4</th>\n",
       "      <td>2018-10-13</td>\n",
       "      <td>Delivery</td>\n",
       "      <td>365420028</td>\n",
       "      <td>0.465</td>\n",
       "      <td>Client - 3177</td>\n",
       "      <td>11096</td>\n",
       "      <td>Courier - Plainville</td>\n",
       "      <td>2762.0</td>\n",
       "    </tr>\n",
       "  </tbody>\n",
       "</table>\n",
       "</div>"
      ],
      "text/plain": [
       "   OriginDate PackageType  FwdPackageKey  ActualWeight OriginFacility  \\\n",
       "0  2018-10-13    Delivery      365429247         0.440  Client - 3177   \n",
       "1  2018-10-13    Delivery      365435043         0.030  Client - 3177   \n",
       "2  2018-10-13    Delivery      365437849         0.106  Client - 3177   \n",
       "3  2018-10-13    Delivery      365387891         0.888  Client - 3177   \n",
       "4  2018-10-13    Delivery      365420028         0.465  Client - 3177   \n",
       "\n",
       "   OriginFacilityZip DestinationFacilityModified  DestinationFacilityZip  \n",
       "0              11096            Courier - Albany                 12205.0  \n",
       "1              11096            Courier - Albany                 12205.0  \n",
       "2              11096        Courier - Plainville                  2762.0  \n",
       "3              11096        Courier - Plainville                  2762.0  \n",
       "4              11096        Courier - Plainville                  2762.0  "
      ]
     },
     "execution_count": 4,
     "metadata": {},
     "output_type": "execute_result"
    }
   ],
   "source": [
    "df_d.head()"
   ]
  },
  {
   "cell_type": "code",
   "execution_count": 6,
   "metadata": {},
   "outputs": [],
   "source": [
    "df_r = pd.read_csv('./Sample Returns Data-FW42-20181217.csv')"
   ]
  },
  {
   "cell_type": "code",
   "execution_count": 7,
   "metadata": {},
   "outputs": [
    {
     "data": {
      "text/plain": [
       "(694994, 8)"
      ]
     },
     "execution_count": 7,
     "metadata": {},
     "output_type": "execute_result"
    }
   ],
   "source": [
    "df_r.shape"
   ]
  },
  {
   "cell_type": "code",
   "execution_count": 8,
   "metadata": {},
   "outputs": [
    {
     "data": {
      "text/html": [
       "<div>\n",
       "<style scoped>\n",
       "    .dataframe tbody tr th:only-of-type {\n",
       "        vertical-align: middle;\n",
       "    }\n",
       "\n",
       "    .dataframe tbody tr th {\n",
       "        vertical-align: top;\n",
       "    }\n",
       "\n",
       "    .dataframe thead th {\n",
       "        text-align: right;\n",
       "    }\n",
       "</style>\n",
       "<table border=\"1\" class=\"dataframe\">\n",
       "  <thead>\n",
       "    <tr style=\"text-align: right;\">\n",
       "      <th></th>\n",
       "      <th>OriginDate</th>\n",
       "      <th>PackageType</th>\n",
       "      <th>PackageKey</th>\n",
       "      <th>ActualWeight</th>\n",
       "      <th>OriginFacilityModified</th>\n",
       "      <th>OriginFacilityZip</th>\n",
       "      <th>DestinationFacility</th>\n",
       "      <th>DestinationFacilityZip</th>\n",
       "    </tr>\n",
       "  </thead>\n",
       "  <tbody>\n",
       "    <tr>\n",
       "      <th>0</th>\n",
       "      <td>2018-10-14</td>\n",
       "      <td>Return</td>\n",
       "      <td>410239140</td>\n",
       "      <td>2.005</td>\n",
       "      <td>Courier - Elkridge</td>\n",
       "      <td>21075.0</td>\n",
       "      <td>Client - 57541</td>\n",
       "      <td>17022</td>\n",
       "    </tr>\n",
       "    <tr>\n",
       "      <th>1</th>\n",
       "      <td>2018-10-14</td>\n",
       "      <td>Return</td>\n",
       "      <td>410229739</td>\n",
       "      <td>3.200</td>\n",
       "      <td>Courier - Elkridge</td>\n",
       "      <td>21075.0</td>\n",
       "      <td>Client - 57541</td>\n",
       "      <td>17022</td>\n",
       "    </tr>\n",
       "    <tr>\n",
       "      <th>2</th>\n",
       "      <td>2018-10-14</td>\n",
       "      <td>Return</td>\n",
       "      <td>410229613</td>\n",
       "      <td>0.395</td>\n",
       "      <td>Courier - Elkridge</td>\n",
       "      <td>21075.0</td>\n",
       "      <td>Client - 57541</td>\n",
       "      <td>17022</td>\n",
       "    </tr>\n",
       "    <tr>\n",
       "      <th>3</th>\n",
       "      <td>2018-10-14</td>\n",
       "      <td>Return</td>\n",
       "      <td>410232948</td>\n",
       "      <td>2.320</td>\n",
       "      <td>Courier - Elkridge</td>\n",
       "      <td>21075.0</td>\n",
       "      <td>Client - 57541</td>\n",
       "      <td>17022</td>\n",
       "    </tr>\n",
       "    <tr>\n",
       "      <th>4</th>\n",
       "      <td>2018-10-14</td>\n",
       "      <td>Return</td>\n",
       "      <td>410243408</td>\n",
       "      <td>0.105</td>\n",
       "      <td>Courier - Elkridge</td>\n",
       "      <td>21075.0</td>\n",
       "      <td>Client - 57541</td>\n",
       "      <td>17022</td>\n",
       "    </tr>\n",
       "  </tbody>\n",
       "</table>\n",
       "</div>"
      ],
      "text/plain": [
       "   OriginDate PackageType  PackageKey  ActualWeight OriginFacilityModified  \\\n",
       "0  2018-10-14      Return   410239140         2.005     Courier - Elkridge   \n",
       "1  2018-10-14      Return   410229739         3.200     Courier - Elkridge   \n",
       "2  2018-10-14      Return   410229613         0.395     Courier - Elkridge   \n",
       "3  2018-10-14      Return   410232948         2.320     Courier - Elkridge   \n",
       "4  2018-10-14      Return   410243408         0.105     Courier - Elkridge   \n",
       "\n",
       "   OriginFacilityZip DestinationFacility  DestinationFacilityZip  \n",
       "0            21075.0      Client - 57541                   17022  \n",
       "1            21075.0      Client - 57541                   17022  \n",
       "2            21075.0      Client - 57541                   17022  \n",
       "3            21075.0      Client - 57541                   17022  \n",
       "4            21075.0      Client - 57541                   17022  "
      ]
     },
     "execution_count": 8,
     "metadata": {},
     "output_type": "execute_result"
    }
   ],
   "source": [
    "df_r.head()"
   ]
  },
  {
   "cell_type": "code",
   "execution_count": 9,
   "metadata": {},
   "outputs": [
    {
     "data": {
      "text/plain": [
       "OriginDate                 object\n",
       "PackageType                object\n",
       "PackageKey                  int64\n",
       "ActualWeight              float64\n",
       "OriginFacilityModified     object\n",
       "OriginFacilityZip         float64\n",
       "DestinationFacility        object\n",
       "DestinationFacilityZip      int64\n",
       "dtype: object"
      ]
     },
     "execution_count": 9,
     "metadata": {},
     "output_type": "execute_result"
    }
   ],
   "source": [
    "df_r.dtypes"
   ]
  },
  {
   "cell_type": "code",
   "execution_count": 21,
   "metadata": {},
   "outputs": [
    {
     "name": "stdout",
     "output_type": "stream",
     "text": [
      "2018-10-14\n",
      "2018-11-05\n"
     ]
    }
   ],
   "source": [
    "print(df_r['OriginDate'].min())\n",
    "print(df_r['OriginDate'].max())"
   ]
  },
  {
   "cell_type": "code",
   "execution_count": 17,
   "metadata": {},
   "outputs": [
    {
     "name": "stdout",
     "output_type": "stream",
     "text": [
      "2018-10-23\n",
      "2018-10-13\n"
     ]
    }
   ],
   "source": [
    "print(df_d['OriginDate'].max())\n",
    "print(df_d['OriginDate'].min())"
   ]
  },
  {
   "cell_type": "code",
   "execution_count": null,
   "metadata": {},
   "outputs": [],
   "source": []
  }
 ],
 "metadata": {
  "kernelspec": {
   "display_name": "Python [default]",
   "language": "python",
   "name": "python3"
  },
  "language_info": {
   "codemirror_mode": {
    "name": "ipython",
    "version": 3
   },
   "file_extension": ".py",
   "mimetype": "text/x-python",
   "name": "python",
   "nbconvert_exporter": "python",
   "pygments_lexer": "ipython3",
   "version": "3.6.4"
  }
 },
 "nbformat": 4,
 "nbformat_minor": 2
}
