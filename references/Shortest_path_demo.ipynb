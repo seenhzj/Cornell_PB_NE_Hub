{
 "cells": [
  {
   "cell_type": "code",
   "execution_count": null,
   "metadata": {},
   "outputs": [],
   "source": [
    "# 1. Import necessary libaray\n",
    "\n",
    "import pandas as pd\n",
    "import xlrd\n",
    "import networkx as nx"
   ]
  },
  {
   "cell_type": "code",
   "execution_count": null,
   "metadata": {},
   "outputs": [],
   "source": [
    "# 2. Load source file\n",
    "\n",
    "df = pd.read_excel('Lane_Schedule.xlsx',sheetname='Schedule')\n",
    "\n",
    "# this table contains columns {'Origin Facility','Ship Facility','Origin Lat','Origin Long','Ship Lat','Ship Long',\n",
    "# 'Distance','CT'}\n",
    "\n",
    "df.head()\n",
    "\n",
    "# 3. Create directed graph\n",
    "\n",
    "G=nx.from_pandas_edgelist(df, 'Origin Facility', 'Ship Facility', ['Distance','CT'],create_using=nx.DiGraph())\n",
    "\n",
    "print(nx.info(G))\n",
    "\n",
    "G.nodes()\n",
    "\n",
    "G.edges()\n",
    "\n",
    "# 4. This will generate shortest path based on CT, cycle time; \n",
    "# if passing weight as 'Distance' then shortest path is based on Distance between two nodes\n",
    "\n",
    "path = dict(nx.all_pairs_dijkstra_path(G,weight='CT'))\n",
    "\n",
    "path"
   ]
  }
 ],
 "metadata": {
  "kernelspec": {
   "display_name": "Python 3",
   "language": "python",
   "name": "python3"
  },
  "language_info": {
   "codemirror_mode": {
    "name": "ipython",
    "version": 3
   },
   "file_extension": ".py",
   "mimetype": "text/x-python",
   "name": "python",
   "nbconvert_exporter": "python",
   "pygments_lexer": "ipython3",
   "version": "3.6.7"
  }
 },
 "nbformat": 4,
 "nbformat_minor": 2
}
