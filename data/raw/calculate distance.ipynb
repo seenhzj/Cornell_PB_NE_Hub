{
 "cells": [
  {
   "cell_type": "code",
   "execution_count": 23,
   "metadata": {
    "ExecuteTime": {
     "end_time": "2019-02-22T02:23:08.384871Z",
     "start_time": "2019-02-22T02:23:08.309597Z"
    }
   },
   "outputs": [],
   "source": [
    "from math import sin, cos, sqrt, atan2, radians\n",
    "\n",
    "\n",
    "def cal_distance(lat1,lat2,lon1,lon2):\n",
    "    # approximate radius of earth in km\n",
    "    R = 6373.0\n",
    "\n",
    "    lat1 = radians(lat1)\n",
    "    lon1 = radians(lon1)\n",
    "    lat2 = radians(lat2)\n",
    "    lon2 = radians(lon2)\n",
    "\n",
    "    dlon = lon2 - lon1\n",
    "    dlat = lat2 - lat1\n",
    "\n",
    "    a = sin(dlat / 2)**2 + cos(lat1) * cos(lat2) * sin(dlon / 2)**2\n",
    "    c = 2 * atan2(sqrt(a), sqrt(1 - a))\n",
    "    \n",
    "    # change km to mile\n",
    "    distance = R * c / 1.609\n",
    "    \n",
    "    return distance"
   ]
  },
  {
   "cell_type": "code",
   "execution_count": 24,
   "metadata": {
    "ExecuteTime": {
     "end_time": "2019-02-22T02:23:09.027639Z",
     "start_time": "2019-02-22T02:23:09.023847Z"
    }
   },
   "outputs": [],
   "source": [
    "user=\"cornell\"\n",
    "password=\"Pitney@1a\"\n",
    "host=\"gec-dwh.ctz5iw1v2fh7.us-west-2.rds.amazonaws.com\"\n",
    "db=\"cornell\"\n",
    "\n",
    "conn = f\"mysql+pymysql://{user}:{password}@{host}/{db}\""
   ]
  },
  {
   "cell_type": "code",
   "execution_count": 25,
   "metadata": {
    "ExecuteTime": {
     "end_time": "2019-02-22T02:23:09.782627Z",
     "start_time": "2019-02-22T02:23:09.778621Z"
    }
   },
   "outputs": [],
   "source": [
    "from sqlalchemy import create_engine\n",
    "\n",
    "engine = create_engine(f\"mysql+pymysql://{user}:{password}@{host}/{db}\")\n",
    "from pandas.io import sql\n",
    "import pandas as pd\n"
   ]
  },
  {
   "cell_type": "code",
   "execution_count": 26,
   "metadata": {
    "ExecuteTime": {
     "end_time": "2019-02-22T02:23:10.607301Z",
     "start_time": "2019-02-22T02:23:10.484884Z"
    }
   },
   "outputs": [],
   "source": [
    "result = engine.execute('select origin_state,origin_lat,origin_lng,dest_state,dest_lat,dest_lng,count from deliver_package_info limit 100')\n",
    "package_df = pd.DataFrame(result.fetchall(),columns=['origin_state','originstate','origin_lng','dest_state','dest_lat','dest_lng','count'])\n"
   ]
  },
  {
   "cell_type": "code",
   "execution_count": 27,
   "metadata": {
    "ExecuteTime": {
     "end_time": "2019-02-22T02:23:11.095970Z",
     "start_time": "2019-02-22T02:23:11.052476Z"
    }
   },
   "outputs": [
    {
     "data": {
      "text/html": [
       "<div>\n",
       "<table border=\"1\" class=\"dataframe\">\n",
       "  <thead>\n",
       "    <tr style=\"text-align: right;\">\n",
       "      <th></th>\n",
       "      <th>origin_state</th>\n",
       "      <th>originstate</th>\n",
       "      <th>origin_lng</th>\n",
       "      <th>dest_state</th>\n",
       "      <th>dest_lat</th>\n",
       "      <th>dest_lng</th>\n",
       "      <th>count</th>\n",
       "    </tr>\n",
       "  </thead>\n",
       "  <tbody>\n",
       "    <tr>\n",
       "      <th>0</th>\n",
       "      <td>NY</td>\n",
       "      <td>41.1434616274125</td>\n",
       "      <td>-74.1238460876456</td>\n",
       "      <td>NJ</td>\n",
       "      <td>40.5833124911422</td>\n",
       "      <td>-74.2703150322948</td>\n",
       "      <td>14</td>\n",
       "    </tr>\n",
       "    <tr>\n",
       "      <th>1</th>\n",
       "      <td>MD</td>\n",
       "      <td>39.4748982668505</td>\n",
       "      <td>-76.2084143365847</td>\n",
       "      <td>VA</td>\n",
       "      <td>37.2706334855373</td>\n",
       "      <td>-79.9411734251418</td>\n",
       "      <td>8</td>\n",
       "    </tr>\n",
       "    <tr>\n",
       "      <th>2</th>\n",
       "      <td>MD</td>\n",
       "      <td>39.4748982668505</td>\n",
       "      <td>-76.2084143365847</td>\n",
       "      <td>CT</td>\n",
       "      <td>41.3447619004598</td>\n",
       "      <td>-73.068704647852</td>\n",
       "      <td>4</td>\n",
       "    </tr>\n",
       "    <tr>\n",
       "      <th>3</th>\n",
       "      <td>MD</td>\n",
       "      <td>39.4748982668505</td>\n",
       "      <td>-76.2084143365847</td>\n",
       "      <td>NY</td>\n",
       "      <td>42.6472800295118</td>\n",
       "      <td>-73.7516930834563</td>\n",
       "      <td>2</td>\n",
       "    </tr>\n",
       "    <tr>\n",
       "      <th>4</th>\n",
       "      <td>MD</td>\n",
       "      <td>39.4748982668505</td>\n",
       "      <td>-76.2084143365847</td>\n",
       "      <td>TN</td>\n",
       "      <td>36.13</td>\n",
       "      <td>-88.51</td>\n",
       "      <td>4</td>\n",
       "    </tr>\n",
       "    <tr>\n",
       "      <th>5</th>\n",
       "      <td>NJ</td>\n",
       "      <td>40.6240218011197</td>\n",
       "      <td>-74.8843774239638</td>\n",
       "      <td></td>\n",
       "      <td></td>\n",
       "      <td></td>\n",
       "      <td>2</td>\n",
       "    </tr>\n",
       "    <tr>\n",
       "      <th>6</th>\n",
       "      <td>CT</td>\n",
       "      <td>41.3447619004598</td>\n",
       "      <td>-73.068704647852</td>\n",
       "      <td></td>\n",
       "      <td></td>\n",
       "      <td></td>\n",
       "      <td>4</td>\n",
       "    </tr>\n",
       "    <tr>\n",
       "      <th>7</th>\n",
       "      <td>NY</td>\n",
       "      <td>41.2922361699564</td>\n",
       "      <td>-73.7604420299132</td>\n",
       "      <td>NY</td>\n",
       "      <td>42.2343589257587</td>\n",
       "      <td>-75.5390075382465</td>\n",
       "      <td>6</td>\n",
       "    </tr>\n",
       "    <tr>\n",
       "      <th>8</th>\n",
       "      <td>NY</td>\n",
       "      <td>40.7220752067917</td>\n",
       "      <td>-73.7068341419121</td>\n",
       "      <td></td>\n",
       "      <td></td>\n",
       "      <td></td>\n",
       "      <td>8133</td>\n",
       "    </tr>\n",
       "    <tr>\n",
       "      <th>9</th>\n",
       "      <td>CT</td>\n",
       "      <td>41.3447619004598</td>\n",
       "      <td>-73.068704647852</td>\n",
       "      <td>NY</td>\n",
       "      <td>42.6472800295118</td>\n",
       "      <td>-73.7516930834563</td>\n",
       "      <td>1379</td>\n",
       "    </tr>\n",
       "  </tbody>\n",
       "</table>\n",
       "</div>"
      ],
      "text/plain": [
       "  origin_state       originstate         origin_lng dest_state  \\\n",
       "0           NY  41.1434616274125  -74.1238460876456         NJ   \n",
       "1           MD  39.4748982668505  -76.2084143365847         VA   \n",
       "2           MD  39.4748982668505  -76.2084143365847         CT   \n",
       "3           MD  39.4748982668505  -76.2084143365847         NY   \n",
       "4           MD  39.4748982668505  -76.2084143365847         TN   \n",
       "5           NJ  40.6240218011197  -74.8843774239638              \n",
       "6           CT  41.3447619004598   -73.068704647852              \n",
       "7           NY  41.2922361699564  -73.7604420299132         NY   \n",
       "8           NY  40.7220752067917  -73.7068341419121              \n",
       "9           CT  41.3447619004598   -73.068704647852         NY   \n",
       "\n",
       "           dest_lat           dest_lng  count  \n",
       "0  40.5833124911422  -74.2703150322948     14  \n",
       "1  37.2706334855373  -79.9411734251418      8  \n",
       "2  41.3447619004598   -73.068704647852      4  \n",
       "3  42.6472800295118  -73.7516930834563      2  \n",
       "4             36.13             -88.51      4  \n",
       "5                                           2  \n",
       "6                                           4  \n",
       "7  42.2343589257587  -75.5390075382465      6  \n",
       "8                                        8133  \n",
       "9  42.6472800295118  -73.7516930834563   1379  "
      ]
     },
     "execution_count": 27,
     "metadata": {},
     "output_type": "execute_result"
    }
   ],
   "source": [
    "package_df"
   ]
  },
  {
   "cell_type": "code",
   "execution_count": 15,
   "metadata": {
    "ExecuteTime": {
     "end_time": "2019-02-21T05:03:34.584752Z",
     "start_time": "2019-02-21T05:03:34.532644Z"
    }
   },
   "outputs": [],
   "source": [
    "facility_df=pd.DataFrame()\n",
    "facility_df['ID']=[i for i in range(1,11)]\n",
    "facility_df['lat']=[40.272873706173655,44.89515483095407,42.304686965277391,38.563117084832918,40.799492838763541,\n",
    "                    40.642102443412682,41.622412156211446,42.717481071824182,41.775317822514765,39.637607998749651]\n",
    "facility_df['lon']=[-78.437189786669663,-70.792749586986645,-77.008752286812296,-77.934078803323573,-80.429785375722489,\n",
    "                    -81.09876856469576,-75.298832812376659,-72.696958353258665,-71.910726787671877,-75.921949353175265]\n",
    "\n",
    "\n"
   ]
  },
  {
   "cell_type": "code",
   "execution_count": 16,
   "metadata": {
    "ExecuteTime": {
     "end_time": "2019-02-21T05:03:35.388823Z",
     "start_time": "2019-02-21T05:03:35.378311Z"
    }
   },
   "outputs": [
    {
     "data": {
      "text/html": [
       "<div>\n",
       "<table border=\"1\" class=\"dataframe\">\n",
       "  <thead>\n",
       "    <tr style=\"text-align: right;\">\n",
       "      <th></th>\n",
       "      <th>ID</th>\n",
       "      <th>lat</th>\n",
       "      <th>lon</th>\n",
       "    </tr>\n",
       "  </thead>\n",
       "  <tbody>\n",
       "    <tr>\n",
       "      <th>0</th>\n",
       "      <td>1</td>\n",
       "      <td>40.272874</td>\n",
       "      <td>-78.437190</td>\n",
       "    </tr>\n",
       "    <tr>\n",
       "      <th>1</th>\n",
       "      <td>2</td>\n",
       "      <td>44.895155</td>\n",
       "      <td>-70.792750</td>\n",
       "    </tr>\n",
       "    <tr>\n",
       "      <th>2</th>\n",
       "      <td>3</td>\n",
       "      <td>42.304687</td>\n",
       "      <td>-77.008752</td>\n",
       "    </tr>\n",
       "    <tr>\n",
       "      <th>3</th>\n",
       "      <td>4</td>\n",
       "      <td>38.563117</td>\n",
       "      <td>-77.934079</td>\n",
       "    </tr>\n",
       "    <tr>\n",
       "      <th>4</th>\n",
       "      <td>5</td>\n",
       "      <td>40.799493</td>\n",
       "      <td>-80.429785</td>\n",
       "    </tr>\n",
       "    <tr>\n",
       "      <th>5</th>\n",
       "      <td>6</td>\n",
       "      <td>40.642102</td>\n",
       "      <td>-81.098769</td>\n",
       "    </tr>\n",
       "    <tr>\n",
       "      <th>6</th>\n",
       "      <td>7</td>\n",
       "      <td>41.622412</td>\n",
       "      <td>-75.298833</td>\n",
       "    </tr>\n",
       "    <tr>\n",
       "      <th>7</th>\n",
       "      <td>8</td>\n",
       "      <td>42.717481</td>\n",
       "      <td>-72.696958</td>\n",
       "    </tr>\n",
       "    <tr>\n",
       "      <th>8</th>\n",
       "      <td>9</td>\n",
       "      <td>41.775318</td>\n",
       "      <td>-71.910727</td>\n",
       "    </tr>\n",
       "    <tr>\n",
       "      <th>9</th>\n",
       "      <td>10</td>\n",
       "      <td>39.637608</td>\n",
       "      <td>-75.921949</td>\n",
       "    </tr>\n",
       "  </tbody>\n",
       "</table>\n",
       "</div>"
      ],
      "text/plain": [
       "   ID        lat        lon\n",
       "0   1  40.272874 -78.437190\n",
       "1   2  44.895155 -70.792750\n",
       "2   3  42.304687 -77.008752\n",
       "3   4  38.563117 -77.934079\n",
       "4   5  40.799493 -80.429785\n",
       "5   6  40.642102 -81.098769\n",
       "6   7  41.622412 -75.298833\n",
       "7   8  42.717481 -72.696958\n",
       "8   9  41.775318 -71.910727\n",
       "9  10  39.637608 -75.921949"
      ]
     },
     "execution_count": 16,
     "metadata": {},
     "output_type": "execute_result"
    }
   ],
   "source": [
    "facility_df"
   ]
  },
  {
   "cell_type": "code",
   "execution_count": null,
   "metadata": {},
   "outputs": [],
   "source": []
  }
 ],
 "metadata": {
  "kernelspec": {
   "display_name": "Python 3",
   "language": "python",
   "name": "python3"
  },
  "language_info": {
   "codemirror_mode": {
    "name": "ipython",
    "version": 3
   },
   "file_extension": ".py",
   "mimetype": "text/x-python",
   "name": "python",
   "nbconvert_exporter": "python",
   "pygments_lexer": "ipython3",
   "version": "3.6.7"
  }
 },
 "nbformat": 4,
 "nbformat_minor": 2
}
