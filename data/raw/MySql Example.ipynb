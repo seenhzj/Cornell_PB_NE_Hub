{
 "cells": [
  {
   "cell_type": "code",
   "execution_count": 1,
   "metadata": {
    "ExecuteTime": {
     "end_time": "2019-03-10T20:27:27.867168Z",
     "start_time": "2019-03-10T20:27:25.905065Z"
    }
   },
   "outputs": [],
   "source": [
    "!pip install sqlalchemy pymysql -q"
   ]
  },
  {
   "cell_type": "code",
   "execution_count": 2,
   "metadata": {
    "ExecuteTime": {
     "end_time": "2019-03-10T20:27:31.388223Z",
     "start_time": "2019-03-10T20:27:28.595646Z"
    }
   },
   "outputs": [],
   "source": [
    "!pip install sqlalchemy sql_magic -q"
   ]
  },
  {
   "cell_type": "code",
   "execution_count": 3,
   "metadata": {
    "ExecuteTime": {
     "end_time": "2019-03-10T20:27:32.836427Z",
     "start_time": "2019-03-10T20:27:32.271327Z"
    }
   },
   "outputs": [
    {
     "name": "stderr",
     "output_type": "stream",
     "text": [
      "/opt/conda/lib/python3.6/site-packages/psycopg2/__init__.py:144: UserWarning: The psycopg2 wheel package will be renamed from release 2.8; in order to keep installing from binary please use \"pip install psycopg2-binary\" instead. For details see: <http://initd.org/psycopg/docs/install.html#binary-install-from-pypi>.\n",
      "  \"\"\")\n"
     ]
    },
    {
     "data": {
      "application/javascript": [
       "\n",
       "    require(['notebook/js/codecell'], function(codecell) {\n",
       "      // https://github.com/jupyter/notebook/issues/2453\n",
       "      codecell.CodeCell.options_default.highlight_modes['magic_text/x-sql'] = {'reg':[/^%read_sql/, /.*=\\s*%read_sql/,\n",
       "                                                                                      /^%%read_sql/]};\n",
       "      Jupyter.notebook.events.one('kernel_ready.Kernel', function(){\n",
       "          console.log('BBBBB');\n",
       "          Jupyter.notebook.get_cells().map(function(cell){\n",
       "              if (cell.cell_type == 'code'){ cell.auto_highlight(); } }) ;\n",
       "      });\n",
       "    });\n",
       "    "
      ]
     },
     "metadata": {},
     "output_type": "display_data"
    }
   ],
   "source": [
    "%load_ext sql_magic"
   ]
  },
  {
   "cell_type": "code",
   "execution_count": 4,
   "metadata": {
    "ExecuteTime": {
     "end_time": "2019-03-10T20:27:33.639085Z",
     "start_time": "2019-03-10T20:27:33.634161Z"
    }
   },
   "outputs": [
    {
     "name": "stdout",
     "output_type": "stream",
     "text": [
      "The sql_magic extension is already loaded. To reload it, use:\n",
      "  %reload_ext sql_magic\n"
     ]
    }
   ],
   "source": [
    "%load_ext sql_magic"
   ]
  },
  {
   "cell_type": "code",
   "execution_count": 5,
   "metadata": {
    "ExecuteTime": {
     "end_time": "2019-03-10T20:27:34.410507Z",
     "start_time": "2019-03-10T20:27:34.406532Z"
    }
   },
   "outputs": [
    {
     "name": "stderr",
     "output_type": "stream",
     "text": [
      "UsageError: Line magic function `%sql` not found.\n"
     ]
    }
   ],
   "source": [
    "%sql"
   ]
  },
  {
   "cell_type": "code",
   "execution_count": 6,
   "metadata": {
    "ExecuteTime": {
     "end_time": "2019-03-10T20:27:35.151405Z",
     "start_time": "2019-03-10T20:27:35.130932Z"
    }
   },
   "outputs": [
    {
     "data": {
      "text/html": [
       "<div>\n",
       "<table border=\"1\" class=\"dataframe\">\n",
       "  <thead>\n",
       "    <tr style=\"text-align: right;\">\n",
       "      <th></th>\n",
       "      <th>A</th>\n",
       "      <th>B</th>\n",
       "      <th>C</th>\n",
       "      <th>D</th>\n",
       "    </tr>\n",
       "  </thead>\n",
       "  <tbody>\n",
       "    <tr>\n",
       "      <th>0</th>\n",
       "      <td>2</td>\n",
       "      <td>99</td>\n",
       "      <td>16</td>\n",
       "      <td>49</td>\n",
       "    </tr>\n",
       "    <tr>\n",
       "      <th>1</th>\n",
       "      <td>23</td>\n",
       "      <td>36</td>\n",
       "      <td>64</td>\n",
       "      <td>2</td>\n",
       "    </tr>\n",
       "    <tr>\n",
       "      <th>2</th>\n",
       "      <td>50</td>\n",
       "      <td>11</td>\n",
       "      <td>60</td>\n",
       "      <td>79</td>\n",
       "    </tr>\n",
       "    <tr>\n",
       "      <th>3</th>\n",
       "      <td>72</td>\n",
       "      <td>54</td>\n",
       "      <td>10</td>\n",
       "      <td>37</td>\n",
       "    </tr>\n",
       "    <tr>\n",
       "      <th>4</th>\n",
       "      <td>4</td>\n",
       "      <td>55</td>\n",
       "      <td>80</td>\n",
       "      <td>73</td>\n",
       "    </tr>\n",
       "  </tbody>\n",
       "</table>\n",
       "</div>"
      ],
      "text/plain": [
       "    A   B   C   D\n",
       "0   2  99  16  49\n",
       "1  23  36  64   2\n",
       "2  50  11  60  79\n",
       "3  72  54  10  37\n",
       "4   4  55  80  73"
      ]
     },
     "execution_count": 6,
     "metadata": {},
     "output_type": "execute_result"
    }
   ],
   "source": [
    "import pandas as pd\n",
    "import numpy as np\n",
    "df = pd.DataFrame(np.random.randint(0,100,size=(100, 4)), columns=list('ABCD'))\n",
    "df.head() # sample data"
   ]
  },
  {
   "cell_type": "markdown",
   "metadata": {
    "ExecuteTime": {
     "end_time": "2019-01-08T13:33:31.879349Z",
     "start_time": "2019-01-08T13:33:31.876318Z"
    }
   },
   "source": [
    "## Write pandas df to database"
   ]
  },
  {
   "cell_type": "code",
   "execution_count": 8,
   "metadata": {
    "ExecuteTime": {
     "end_time": "2019-02-01T15:18:31.623516Z",
     "start_time": "2019-02-01T15:18:31.619754Z"
    }
   },
   "outputs": [],
   "source": [
    "user=\"cornell\"\n",
    "password=\"Pitney@1a\"\n",
    "host=\"gec-dwh.ctz5iw1v2fh7.us-west-2.rds.amazonaws.com\"\n",
    "db=\"cornell\"\n",
    "\n",
    "conn = f\"mysql+pymysql://{user}:{password}@{host}/{db}\""
   ]
  },
  {
   "cell_type": "code",
   "execution_count": 9,
   "metadata": {
    "ExecuteTime": {
     "end_time": "2019-02-01T15:18:35.419842Z",
     "start_time": "2019-02-01T15:18:35.305749Z"
    },
    "scrolled": true
   },
   "outputs": [],
   "source": [
    "from sqlalchemy import create_engine\n",
    "\n",
    "engine = create_engine(f\"mysql+pymysql://{user}:{password}@{host}/{db}\")"
   ]
  },
  {
   "cell_type": "code",
   "execution_count": 10,
   "metadata": {
    "ExecuteTime": {
     "end_time": "2019-02-01T15:18:36.483299Z",
     "start_time": "2019-02-01T15:18:36.232067Z"
    },
    "scrolled": true
   },
   "outputs": [],
   "source": [
    "from pandas.io import sql\n",
    "df.to_sql(con=engine, name='test_df', \n",
    "                if_exists='replace')"
   ]
  },
  {
   "cell_type": "markdown",
   "metadata": {},
   "source": [
    "## Query database"
   ]
  },
  {
   "cell_type": "code",
   "execution_count": 11,
   "metadata": {
    "ExecuteTime": {
     "end_time": "2019-02-01T15:18:45.485202Z",
     "start_time": "2019-02-01T15:18:45.409469Z"
    },
    "scrolled": true
   },
   "outputs": [
    {
     "name": "stdout",
     "output_type": "stream",
     "text": [
      "('information_schema',)\n",
      "('cornell',)\n"
     ]
    }
   ],
   "source": [
    "result = engine.execute('show databases')\n",
    "for _r in result:\n",
    "    print(_r)"
   ]
  },
  {
   "cell_type": "code",
   "execution_count": 12,
   "metadata": {
    "ExecuteTime": {
     "end_time": "2019-02-01T15:18:50.186956Z",
     "start_time": "2019-02-01T15:18:50.149705Z"
    }
   },
   "outputs": [
    {
     "name": "stdout",
     "output_type": "stream",
     "text": [
      "('ne_delivery_data_by_day_2018',)\n",
      "('ne_returns_data_by_day_2018',)\n",
      "('test_df',)\n"
     ]
    }
   ],
   "source": [
    "result = engine.execute('show tables in cornell')\n",
    "for _r in result:\n",
    "    print(_r)"
   ]
  },
  {
   "cell_type": "code",
   "execution_count": 23,
   "metadata": {
    "ExecuteTime": {
     "end_time": "2019-02-01T15:25:22.697015Z",
     "start_time": "2019-02-01T15:25:22.688855Z"
    }
   },
   "outputs": [
    {
     "name": "stdout",
     "output_type": "stream",
     "text": [
      "('origindate', 'date', 'YES', '', None, '')\n",
      "('packagetype', 'varchar(50)', 'YES', '', None, '')\n",
      "('fwdpackagekey', 'varchar(50)', 'YES', '', None, '')\n",
      "('actualweight', 'varchar(50)', 'YES', '', None, '')\n",
      "('originfacility', 'varchar(50)', 'YES', '', None, '')\n",
      "('originfacilityzip', 'varchar(50)', 'YES', '', None, '')\n",
      "('destinationfacilitymodified', 'varchar(50)', 'YES', '', None, '')\n",
      "('destinationfacilityzip', 'varchar(50)', 'YES', '', None, '')\n"
     ]
    }
   ],
   "source": [
    "result = engine.execute('describe ne_delivery_data_by_day_2018')\n",
    "for _r in result:\n",
    "    print(_r)"
   ]
  },
  {
   "cell_type": "code",
   "execution_count": 20,
   "metadata": {
    "ExecuteTime": {
     "end_time": "2019-02-01T15:21:58.698104Z",
     "start_time": "2019-02-01T15:21:58.640970Z"
    }
   },
   "outputs": [
    {
     "name": "stdout",
     "output_type": "stream",
     "text": [
      "('CHARACTER_SETS',)\n",
      "('COLLATIONS',)\n",
      "('COLLATION_CHARACTER_SET_APPLICABILITY',)\n",
      "('COLUMNS',)\n",
      "('COLUMN_PRIVILEGES',)\n",
      "('ENGINES',)\n",
      "('EVENTS',)\n",
      "('FILES',)\n",
      "('GLOBAL_STATUS',)\n",
      "('GLOBAL_VARIABLES',)\n",
      "('KEY_COLUMN_USAGE',)\n",
      "('OPTIMIZER_TRACE',)\n",
      "('PARAMETERS',)\n",
      "('PARTITIONS',)\n",
      "('PLUGINS',)\n",
      "('PROCESSLIST',)\n",
      "('RDS_PROCESSLIST',)\n",
      "('AURORA_OBJECTPOOL_INFO',)\n",
      "('RDS_CONTROL_PERFORMANCE_INSIGHTS_STATUS',)\n",
      "('PROFILING',)\n",
      "('REFERENTIAL_CONSTRAINTS',)\n",
      "('ROUTINES',)\n",
      "('SCHEMATA',)\n",
      "('SCHEMA_PRIVILEGES',)\n",
      "('SESSION_STATUS',)\n",
      "('SESSION_VARIABLES',)\n",
      "('STATISTICS',)\n",
      "('TABLES',)\n",
      "('TABLESPACES',)\n",
      "('TABLE_CONSTRAINTS',)\n",
      "('TABLE_PRIVILEGES',)\n",
      "('TRIGGERS',)\n",
      "('USER_PRIVILEGES',)\n",
      "('VIEWS',)\n",
      "('REPLICA_HOST_STATUS',)\n",
      "('INNODB_LOCKS',)\n",
      "('INNODB_TRX',)\n",
      "('INNODB_SYS_DATAFILES',)\n",
      "('INNODB_LOCK_WAITS',)\n",
      "('INNODB_SYS_TABLESTATS',)\n",
      "('INNODB_CMP',)\n",
      "('INNODB_SYS_INDEXES_HISTORY',)\n",
      "('INNODB_CMP_RESET',)\n",
      "('INNODB_CMP_PER_INDEX',)\n",
      "('INNODB_CMPMEM_RESET',)\n",
      "('INNODB_FT_DELETED',)\n",
      "('INNODB_BUFFER_PAGE_LRU',)\n",
      "('INNODB_FT_INSERTED',)\n",
      "('INNODB_CMPMEM',)\n",
      "('INNODB_SYS_INDEXES',)\n",
      "('INNODB_SYS_TABLES',)\n",
      "('INNODB_SYS_FIELDS',)\n",
      "('INNODB_CMP_PER_INDEX_RESET',)\n",
      "('INNODB_BUFFER_PAGE',)\n",
      "('INNODB_FT_BEING_DELETED',)\n",
      "('INNODB_FT_INDEX_TABLE',)\n",
      "('INNODB_FT_INDEX_CACHE',)\n",
      "('INNODB_SYS_TABLESPACES',)\n",
      "('INNODB_METRICS',)\n",
      "('INNODB_SYS_FOREIGN_COLS',)\n",
      "('INNODB_SYS_FOREIGN',)\n",
      "('INNODB_BUFFER_POOL_STATS',)\n",
      "('INNODB_SYS_COLUMNS',)\n",
      "('INNODB_SYS_FIELDS_HISTORY',)\n",
      "('INNODB_SYS_SCHEMA_HISTORY',)\n",
      "('INNODB_FT_DEFAULT_STOPWORD',)\n",
      "('INNODB_SYS_COLUMNS_HISTORY',)\n",
      "('INNODB_SYS_TABLES_HISTORY',)\n",
      "('INNODB_FT_CONFIG',)\n"
     ]
    }
   ],
   "source": [
    "result = engine.execute('show tables in information_schema')\n",
    "for _r in result:\n",
    "    print(_r)"
   ]
  },
  {
   "cell_type": "code",
   "execution_count": 24,
   "metadata": {
    "ExecuteTime": {
     "end_time": "2019-02-01T15:25:22.710835Z",
     "start_time": "2019-02-01T15:25:22.702282Z"
    }
   },
   "outputs": [
    {
     "name": "stdout",
     "output_type": "stream",
     "text": [
      "(datetime.date(2019, 1, 10), 'Return', 420456129, 0.1168, 'IND - PartnerFacility', '46037', 'IND - Client', '46037')\n",
      "(datetime.date(2019, 1, 7), 'Return', 420156653, 3.35, 'IND - PartnerFacility', '46037', 'IND - Client', '46037')\n",
      "(datetime.date(2019, 1, 7), 'Return', 420161921, 0.9369, 'IND - PartnerFacility', '46037', 'IND - Client', '46037')\n",
      "(datetime.date(2019, 1, 7), 'Return', 420162311, 0.2733, 'IND - PartnerFacility', '46037', 'IND - Client', '46037')\n",
      "(datetime.date(2019, 1, 7), 'Return', 420162321, 0.6128, 'IND - PartnerFacility', '46037', 'IND - Client', '46037')\n",
      "(datetime.date(2019, 1, 7), 'Return', 420162133, 0.3108, 'IND - PartnerFacility', '46037', 'IND - Client', '46037')\n",
      "(datetime.date(2018, 5, 25), 'Return', 394568185, 1.7835, 'ATL - PartnerFacility', '30349', 'Client - 52909', '92407')\n",
      "(datetime.date(2018, 8, 27), 'Return', 405004216, 5.105, 'IND - PartnerFacility', '46037', 'Client - 52909', '92407')\n",
      "(datetime.date(2018, 8, 27), 'Return', 404860180, 10.68, 'IND - PartnerFacility', '46037', 'Client - 52909', '92407')\n",
      "(datetime.date(2018, 5, 28), 'Return', 394769055, 0.415, 'IND - PartnerFacility', '46037', 'Client - 52909', '92407')\n"
     ]
    }
   ],
   "source": [
    "result = engine.execute('select * from cornell.ne_returns_data_by_day_2018 limit 10')\n",
    "for _r in result:\n",
    "    print(_r)"
   ]
  },
  {
   "cell_type": "code",
   "execution_count": null,
   "metadata": {
    "ExecuteTime": {
     "start_time": "2019-02-01T15:23:29.438Z"
    }
   },
   "outputs": [],
   "source": [
    "result = engine.execute('select count(*) from cornell.ne_returns_data_by_day_2018')\n",
    "for _r in result:\n",
    "    print(_r)"
   ]
  },
  {
   "cell_type": "code",
   "execution_count": 22,
   "metadata": {
    "ExecuteTime": {
     "end_time": "2019-02-01T15:25:22.683731Z",
     "start_time": "2019-02-01T15:23:29.478928Z"
    }
   },
   "outputs": [
    {
     "name": "stdout",
     "output_type": "stream",
     "text": [
      "(33276614,)\n"
     ]
    }
   ],
   "source": [
    "result = engine.execute('select count(*) from cornell.ne_returns_data_by_day_2018')\n",
    "for _r in result:\n",
    "    print(_r)"
   ]
  },
  {
   "cell_type": "code",
   "execution_count": 25,
   "metadata": {
    "ExecuteTime": {
     "end_time": "2019-02-01T15:27:45.845945Z",
     "start_time": "2019-02-01T15:26:48.095325Z"
    }
   },
   "outputs": [
    {
     "name": "stdout",
     "output_type": "stream",
     "text": [
      "(datetime.date(2017, 12, 31), 15151)\n",
      "(datetime.date(2018, 1, 1), 6169)\n",
      "(datetime.date(2018, 1, 2), 61815)\n",
      "(datetime.date(2018, 1, 3), 93505)\n",
      "(datetime.date(2018, 1, 4), 88608)\n",
      "(datetime.date(2018, 1, 5), 119207)\n",
      "(datetime.date(2018, 1, 6), 99511)\n",
      "(datetime.date(2018, 1, 7), 38731)\n",
      "(datetime.date(2018, 1, 8), 84528)\n",
      "(datetime.date(2018, 1, 9), 165331)\n",
      "(datetime.date(2018, 1, 10), 178932)\n",
      "(datetime.date(2018, 1, 11), 176715)\n",
      "(datetime.date(2018, 1, 12), 157224)\n",
      "(datetime.date(2018, 1, 13), 117279)\n",
      "(datetime.date(2018, 1, 14), 49768)\n",
      "(datetime.date(2018, 1, 15), 55549)\n",
      "(datetime.date(2018, 1, 16), 114127)\n",
      "(datetime.date(2018, 1, 17), 116670)\n",
      "(datetime.date(2018, 1, 18), 133814)\n",
      "(datetime.date(2018, 1, 19), 159354)\n",
      "(datetime.date(2018, 1, 20), 136374)\n",
      "(datetime.date(2018, 1, 21), 41146)\n",
      "(datetime.date(2018, 1, 22), 96541)\n",
      "(datetime.date(2018, 1, 23), 143534)\n",
      "(datetime.date(2018, 1, 24), 166564)\n",
      "(datetime.date(2018, 1, 25), 163890)\n",
      "(datetime.date(2018, 1, 26), 166279)\n",
      "(datetime.date(2018, 1, 27), 113971)\n",
      "(datetime.date(2018, 1, 28), 40741)\n",
      "(datetime.date(2018, 1, 29), 86761)\n",
      "(datetime.date(2018, 1, 30), 141821)\n",
      "(datetime.date(2018, 1, 31), 165365)\n",
      "(datetime.date(2018, 2, 1), 153170)\n",
      "(datetime.date(2018, 2, 2), 147257)\n",
      "(datetime.date(2018, 2, 3), 103484)\n",
      "(datetime.date(2018, 2, 4), 35881)\n",
      "(datetime.date(2018, 2, 5), 73870)\n",
      "(datetime.date(2018, 2, 6), 115258)\n",
      "(datetime.date(2018, 2, 7), 137036)\n",
      "(datetime.date(2018, 2, 8), 116916)\n",
      "(datetime.date(2018, 2, 9), 113213)\n",
      "(datetime.date(2018, 2, 10), 71355)\n",
      "(datetime.date(2018, 2, 11), 31390)\n",
      "(datetime.date(2018, 2, 12), 67644)\n",
      "(datetime.date(2018, 2, 13), 96417)\n",
      "(datetime.date(2018, 2, 14), 117126)\n",
      "(datetime.date(2018, 2, 15), 107016)\n",
      "(datetime.date(2018, 2, 16), 94203)\n",
      "(datetime.date(2018, 2, 17), 74964)\n",
      "(datetime.date(2018, 2, 18), 36043)\n",
      "(datetime.date(2018, 2, 19), 30167)\n",
      "(datetime.date(2018, 2, 20), 77849)\n",
      "(datetime.date(2018, 2, 21), 115207)\n",
      "(datetime.date(2018, 2, 22), 102173)\n",
      "(datetime.date(2018, 2, 23), 111873)\n",
      "(datetime.date(2018, 2, 24), 78760)\n",
      "(datetime.date(2018, 2, 25), 28012)\n",
      "(datetime.date(2018, 2, 26), 83589)\n",
      "(datetime.date(2018, 2, 27), 108824)\n",
      "(datetime.date(2018, 2, 28), 139530)\n",
      "(datetime.date(2018, 3, 1), 123409)\n",
      "(datetime.date(2018, 3, 2), 114367)\n",
      "(datetime.date(2018, 3, 3), 73746)\n",
      "(datetime.date(2018, 3, 4), 28517)\n",
      "(datetime.date(2018, 3, 5), 75688)\n",
      "(datetime.date(2018, 3, 6), 113295)\n",
      "(datetime.date(2018, 3, 7), 117066)\n",
      "(datetime.date(2018, 3, 8), 128062)\n",
      "(datetime.date(2018, 3, 9), 124443)\n",
      "(datetime.date(2018, 3, 10), 85650)\n",
      "(datetime.date(2018, 3, 11), 35053)\n",
      "(datetime.date(2018, 3, 12), 80965)\n",
      "(datetime.date(2018, 3, 13), 114631)\n",
      "(datetime.date(2018, 3, 14), 141108)\n",
      "(datetime.date(2018, 3, 15), 132458)\n",
      "(datetime.date(2018, 3, 16), 125409)\n",
      "(datetime.date(2018, 3, 17), 84130)\n",
      "(datetime.date(2018, 3, 18), 17772)\n",
      "(datetime.date(2018, 3, 19), 89913)\n",
      "(datetime.date(2018, 3, 20), 124345)\n",
      "(datetime.date(2018, 3, 21), 135640)\n",
      "(datetime.date(2018, 3, 22), 128140)\n",
      "(datetime.date(2018, 3, 23), 122052)\n",
      "(datetime.date(2018, 3, 24), 90630)\n",
      "(datetime.date(2018, 3, 25), 40430)\n",
      "(datetime.date(2018, 3, 26), 82481)\n",
      "(datetime.date(2018, 3, 27), 119584)\n",
      "(datetime.date(2018, 3, 28), 129688)\n",
      "(datetime.date(2018, 3, 29), 149390)\n",
      "(datetime.date(2018, 3, 30), 121022)\n",
      "(datetime.date(2018, 3, 31), 89096)\n",
      "(datetime.date(2018, 4, 1), 40069)\n",
      "(datetime.date(2018, 4, 2), 78994)\n",
      "(datetime.date(2018, 4, 3), 109633)\n",
      "(datetime.date(2018, 4, 4), 142024)\n",
      "(datetime.date(2018, 4, 5), 137803)\n",
      "(datetime.date(2018, 4, 6), 132000)\n",
      "(datetime.date(2018, 4, 7), 96440)\n",
      "(datetime.date(2018, 4, 8), 31287)\n",
      "(datetime.date(2018, 4, 9), 85616)\n",
      "(datetime.date(2018, 4, 10), 127350)\n",
      "(datetime.date(2018, 4, 11), 146099)\n",
      "(datetime.date(2018, 4, 12), 137751)\n",
      "(datetime.date(2018, 4, 13), 142391)\n",
      "(datetime.date(2018, 4, 14), 80852)\n",
      "(datetime.date(2018, 4, 15), 39127)\n",
      "(datetime.date(2018, 4, 16), 81417)\n",
      "(datetime.date(2018, 4, 17), 120418)\n",
      "(datetime.date(2018, 4, 18), 144061)\n",
      "(datetime.date(2018, 4, 19), 141344)\n",
      "(datetime.date(2018, 4, 20), 135847)\n",
      "(datetime.date(2018, 4, 21), 96424)\n",
      "(datetime.date(2018, 4, 22), 34866)\n",
      "(datetime.date(2018, 4, 23), 97378)\n",
      "(datetime.date(2018, 4, 24), 128278)\n",
      "(datetime.date(2018, 4, 25), 155363)\n",
      "(datetime.date(2018, 4, 26), 139837)\n",
      "(datetime.date(2018, 4, 27), 144127)\n",
      "(datetime.date(2018, 4, 28), 92383)\n",
      "(datetime.date(2018, 4, 29), 44456)\n",
      "(datetime.date(2018, 4, 30), 91263)\n",
      "(datetime.date(2018, 5, 1), 126102)\n",
      "(datetime.date(2018, 5, 2), 161130)\n",
      "(datetime.date(2018, 5, 3), 147818)\n",
      "(datetime.date(2018, 5, 4), 135382)\n",
      "(datetime.date(2018, 5, 5), 95029)\n",
      "(datetime.date(2018, 5, 6), 36552)\n",
      "(datetime.date(2018, 5, 7), 91056)\n",
      "(datetime.date(2018, 5, 8), 121426)\n",
      "(datetime.date(2018, 5, 9), 157572)\n",
      "(datetime.date(2018, 5, 10), 137846)\n",
      "(datetime.date(2018, 5, 11), 146483)\n",
      "(datetime.date(2018, 5, 12), 100149)\n",
      "(datetime.date(2018, 5, 13), 35510)\n",
      "(datetime.date(2018, 5, 14), 84433)\n",
      "(datetime.date(2018, 5, 15), 122415)\n",
      "(datetime.date(2018, 5, 16), 150113)\n",
      "(datetime.date(2018, 5, 17), 138794)\n",
      "(datetime.date(2018, 5, 18), 136826)\n",
      "(datetime.date(2018, 5, 19), 100441)\n",
      "(datetime.date(2018, 5, 20), 33851)\n",
      "(datetime.date(2018, 5, 21), 91797)\n",
      "(datetime.date(2018, 5, 22), 125716)\n",
      "(datetime.date(2018, 5, 23), 157069)\n",
      "(datetime.date(2018, 5, 24), 141879)\n",
      "(datetime.date(2018, 5, 25), 140734)\n",
      "(datetime.date(2018, 5, 26), 85864)\n",
      "(datetime.date(2018, 5, 27), 49671)\n",
      "(datetime.date(2018, 5, 28), 8877)\n",
      "(datetime.date(2018, 5, 29), 75969)\n",
      "(datetime.date(2018, 5, 30), 113483)\n",
      "(datetime.date(2018, 5, 31), 155169)\n",
      "(datetime.date(2018, 6, 1), 128705)\n",
      "(datetime.date(2018, 6, 2), 102820)\n",
      "(datetime.date(2018, 6, 3), 41785)\n",
      "(datetime.date(2018, 6, 4), 89913)\n",
      "(datetime.date(2018, 6, 5), 130296)\n",
      "(datetime.date(2018, 6, 6), 151466)\n",
      "(datetime.date(2018, 6, 7), 157824)\n",
      "(datetime.date(2018, 6, 8), 135283)\n",
      "(datetime.date(2018, 6, 9), 90909)\n",
      "(datetime.date(2018, 6, 10), 43941)\n",
      "(datetime.date(2018, 6, 11), 83616)\n",
      "(datetime.date(2018, 6, 12), 124489)\n",
      "(datetime.date(2018, 6, 13), 145055)\n",
      "(datetime.date(2018, 6, 14), 144155)\n",
      "(datetime.date(2018, 6, 15), 132441)\n",
      "(datetime.date(2018, 6, 16), 96047)\n",
      "(datetime.date(2018, 6, 17), 34572)\n",
      "(datetime.date(2018, 6, 18), 85688)\n",
      "(datetime.date(2018, 6, 19), 123994)\n",
      "(datetime.date(2018, 6, 20), 137285)\n",
      "(datetime.date(2018, 6, 21), 137285)\n",
      "(datetime.date(2018, 6, 22), 137139)\n",
      "(datetime.date(2018, 6, 23), 93785)\n",
      "(datetime.date(2018, 6, 24), 43236)\n",
      "(datetime.date(2018, 6, 25), 91338)\n",
      "(datetime.date(2018, 6, 26), 124979)\n",
      "(datetime.date(2018, 6, 27), 139301)\n",
      "(datetime.date(2018, 6, 28), 132419)\n",
      "(datetime.date(2018, 6, 29), 133966)\n",
      "(datetime.date(2018, 6, 30), 89535)\n",
      "(datetime.date(2018, 7, 1), 38640)\n",
      "(datetime.date(2018, 7, 2), 84326)\n",
      "(datetime.date(2018, 7, 3), 114949)\n",
      "(datetime.date(2018, 7, 4), 69567)\n",
      "(datetime.date(2018, 7, 5), 102923)\n",
      "(datetime.date(2018, 7, 6), 103523)\n",
      "(datetime.date(2018, 7, 7), 89125)\n",
      "(datetime.date(2018, 7, 8), 39840)\n",
      "(datetime.date(2018, 7, 9), 95766)\n",
      "(datetime.date(2018, 7, 10), 116519)\n",
      "(datetime.date(2018, 7, 11), 132576)\n",
      "(datetime.date(2018, 7, 12), 139541)\n",
      "(datetime.date(2018, 7, 13), 130578)\n",
      "(datetime.date(2018, 7, 14), 91435)\n",
      "(datetime.date(2018, 7, 15), 33309)\n",
      "(datetime.date(2018, 7, 16), 94447)\n",
      "(datetime.date(2018, 7, 17), 120459)\n",
      "(datetime.date(2018, 7, 18), 124809)\n",
      "(datetime.date(2018, 7, 19), 132740)\n",
      "(datetime.date(2018, 7, 20), 121805)\n",
      "(datetime.date(2018, 7, 21), 83086)\n",
      "(datetime.date(2018, 7, 22), 32527)\n",
      "(datetime.date(2018, 7, 23), 87543)\n",
      "(datetime.date(2018, 7, 24), 110392)\n",
      "(datetime.date(2018, 7, 25), 139611)\n",
      "(datetime.date(2018, 7, 26), 128688)\n",
      "(datetime.date(2018, 7, 27), 130686)\n",
      "(datetime.date(2018, 7, 28), 92336)\n",
      "(datetime.date(2018, 7, 29), 36225)\n",
      "(datetime.date(2018, 7, 30), 93622)\n",
      "(datetime.date(2018, 7, 31), 114418)\n",
      "(datetime.date(2018, 8, 1), 126821)\n",
      "(datetime.date(2018, 8, 2), 136315)\n",
      "(datetime.date(2018, 8, 3), 126515)\n",
      "(datetime.date(2018, 8, 4), 90115)\n",
      "(datetime.date(2018, 8, 5), 39996)\n",
      "(datetime.date(2018, 8, 6), 86760)\n",
      "(datetime.date(2018, 8, 7), 114986)\n",
      "(datetime.date(2018, 8, 8), 129650)\n",
      "(datetime.date(2018, 8, 9), 136513)\n",
      "(datetime.date(2018, 8, 10), 134260)\n",
      "(datetime.date(2018, 8, 11), 94880)\n",
      "(datetime.date(2018, 8, 12), 41321)\n",
      "(datetime.date(2018, 8, 13), 82566)\n",
      "(datetime.date(2018, 8, 14), 110577)\n",
      "(datetime.date(2018, 8, 15), 131322)\n",
      "(datetime.date(2018, 8, 16), 134215)\n",
      "(datetime.date(2018, 8, 17), 128277)\n",
      "(datetime.date(2018, 8, 18), 89680)\n",
      "(datetime.date(2018, 8, 19), 47827)\n",
      "(datetime.date(2018, 8, 20), 79945)\n",
      "(datetime.date(2018, 8, 21), 95511)\n",
      "(datetime.date(2018, 8, 22), 125622)\n",
      "(datetime.date(2018, 8, 23), 135478)\n",
      "(datetime.date(2018, 8, 24), 117003)\n",
      "(datetime.date(2018, 8, 25), 87959)\n",
      "(datetime.date(2018, 8, 26), 34293)\n",
      "(datetime.date(2018, 8, 27), 83149)\n",
      "(datetime.date(2018, 8, 28), 107673)\n",
      "(datetime.date(2018, 8, 29), 123502)\n",
      "(datetime.date(2018, 8, 30), 120569)\n",
      "(datetime.date(2018, 8, 31), 116003)\n",
      "(datetime.date(2018, 9, 1), 83264)\n",
      "(datetime.date(2018, 9, 2), 33271)\n",
      "(datetime.date(2018, 9, 3), 14682)\n",
      "(datetime.date(2018, 9, 4), 62110)\n",
      "(datetime.date(2018, 9, 5), 107877)\n",
      "(datetime.date(2018, 9, 6), 121285)\n",
      "(datetime.date(2018, 9, 7), 114183)\n",
      "(datetime.date(2018, 9, 8), 84481)\n",
      "(datetime.date(2018, 9, 9), 39595)\n",
      "(datetime.date(2018, 9, 10), 82872)\n",
      "(datetime.date(2018, 9, 11), 102725)\n",
      "(datetime.date(2018, 9, 12), 119132)\n",
      "(datetime.date(2018, 9, 13), 137092)\n",
      "(datetime.date(2018, 9, 14), 128966)\n",
      "(datetime.date(2018, 9, 15), 84048)\n",
      "(datetime.date(2018, 9, 16), 35600)\n",
      "(datetime.date(2018, 9, 17), 91055)\n",
      "(datetime.date(2018, 9, 18), 106004)\n",
      "(datetime.date(2018, 9, 19), 132258)\n",
      "(datetime.date(2018, 9, 20), 128900)\n",
      "(datetime.date(2018, 9, 21), 118146)\n",
      "(datetime.date(2018, 9, 22), 75563)\n",
      "(datetime.date(2018, 9, 23), 37566)\n",
      "(datetime.date(2018, 9, 24), 82300)\n",
      "(datetime.date(2018, 9, 25), 110009)\n",
      "(datetime.date(2018, 9, 26), 128267)\n",
      "(datetime.date(2018, 9, 27), 150923)\n",
      "(datetime.date(2018, 9, 28), 142435)\n",
      "(datetime.date(2018, 9, 29), 110643)\n",
      "(datetime.date(2018, 9, 30), 55383)\n",
      "(datetime.date(2018, 10, 1), 74316)\n",
      "(datetime.date(2018, 10, 2), 107357)\n",
      "(datetime.date(2018, 10, 3), 130993)\n",
      "(datetime.date(2018, 10, 4), 139653)\n",
      "(datetime.date(2018, 10, 5), 133384)\n",
      "(datetime.date(2018, 10, 6), 84887)\n",
      "(datetime.date(2018, 10, 7), 41986)\n",
      "(datetime.date(2018, 10, 8), 42366)\n",
      "(datetime.date(2018, 10, 9), 86446)\n",
      "(datetime.date(2018, 10, 10), 119672)\n",
      "(datetime.date(2018, 10, 11), 133391)\n",
      "(datetime.date(2018, 10, 12), 120107)\n",
      "(datetime.date(2018, 10, 13), 80894)\n",
      "(datetime.date(2018, 10, 14), 44267)\n",
      "(datetime.date(2018, 10, 15), 84234)\n",
      "(datetime.date(2018, 10, 16), 122091)\n",
      "(datetime.date(2018, 10, 17), 140300)\n",
      "(datetime.date(2018, 10, 18), 140870)\n",
      "(datetime.date(2018, 10, 19), 123506)\n",
      "(datetime.date(2018, 10, 20), 81777)\n",
      "(datetime.date(2018, 10, 21), 31227)\n",
      "(datetime.date(2018, 10, 22), 76640)\n",
      "(datetime.date(2018, 10, 23), 116386)\n",
      "(datetime.date(2018, 10, 24), 133864)\n",
      "(datetime.date(2018, 10, 25), 146198)\n",
      "(datetime.date(2018, 10, 26), 124304)\n",
      "(datetime.date(2018, 10, 27), 77857)\n",
      "(datetime.date(2018, 10, 28), 31975)\n",
      "(datetime.date(2018, 10, 29), 74304)\n",
      "(datetime.date(2018, 10, 30), 112726)\n",
      "(datetime.date(2018, 10, 31), 127461)\n",
      "(datetime.date(2018, 11, 1), 152707)\n",
      "(datetime.date(2018, 11, 2), 127027)\n",
      "(datetime.date(2018, 11, 3), 80130)\n",
      "(datetime.date(2018, 11, 4), 41691)\n",
      "(datetime.date(2018, 11, 5), 84619)\n",
      "(datetime.date(2018, 11, 6), 110489)\n",
      "(datetime.date(2018, 11, 7), 140217)\n",
      "(datetime.date(2018, 11, 8), 135841)\n",
      "(datetime.date(2018, 11, 9), 126792)\n",
      "(datetime.date(2018, 11, 10), 88019)\n",
      "(datetime.date(2018, 11, 11), 37529)\n",
      "(datetime.date(2018, 11, 12), 45519)\n",
      "(datetime.date(2018, 11, 13), 66666)\n",
      "(datetime.date(2018, 11, 14), 88875)\n",
      "(datetime.date(2018, 11, 15), 98769)\n",
      "(datetime.date(2018, 11, 16), 58473)\n",
      "(datetime.date(2018, 11, 17), 31788)\n",
      "(datetime.date(2018, 11, 18), 9479)\n",
      "(datetime.date(2018, 11, 19), 24975)\n",
      "(datetime.date(2018, 11, 20), 11064)\n",
      "(datetime.date(2018, 11, 21), 23680)\n",
      "(datetime.date(2018, 11, 22), 20018)\n",
      "(datetime.date(2018, 11, 23), 13177)\n",
      "(datetime.date(2018, 11, 24), 12953)\n",
      "(datetime.date(2018, 11, 25), 2016)\n",
      "(datetime.date(2018, 11, 26), 6600)\n",
      "(datetime.date(2018, 11, 27), 5357)\n",
      "(datetime.date(2018, 11, 28), 6308)\n",
      "(datetime.date(2018, 11, 29), 16378)\n",
      "(datetime.date(2018, 11, 30), 28221)\n",
      "(datetime.date(2018, 12, 1), 18954)\n",
      "(datetime.date(2018, 12, 2), 11221)\n",
      "(datetime.date(2018, 12, 3), 30585)\n",
      "(datetime.date(2018, 12, 4), 43380)\n",
      "(datetime.date(2018, 12, 5), 20168)\n",
      "(datetime.date(2018, 12, 6), 22338)\n",
      "(datetime.date(2018, 12, 7), 6561)\n",
      "(datetime.date(2018, 12, 8), 6903)\n",
      "(datetime.date(2018, 12, 9), 3496)\n",
      "(datetime.date(2018, 12, 10), 7944)\n",
      "(datetime.date(2018, 12, 11), 5776)\n",
      "(datetime.date(2018, 12, 12), 6307)\n",
      "(datetime.date(2018, 12, 13), 9617)\n",
      "(datetime.date(2018, 12, 14), 7696)\n",
      "(datetime.date(2018, 12, 15), 10733)\n",
      "(datetime.date(2018, 12, 16), 2981)\n",
      "(datetime.date(2018, 12, 17), 8011)\n",
      "(datetime.date(2018, 12, 18), 5952)\n",
      "(datetime.date(2018, 12, 19), 7462)\n",
      "(datetime.date(2018, 12, 20), 9559)\n",
      "(datetime.date(2018, 12, 21), 9483)\n",
      "(datetime.date(2018, 12, 22), 13499)\n",
      "(datetime.date(2018, 12, 23), 8482)\n",
      "(datetime.date(2018, 12, 24), 10917)\n",
      "(datetime.date(2018, 12, 25), 383)\n",
      "(datetime.date(2018, 12, 26), 2650)\n",
      "(datetime.date(2018, 12, 27), 9355)\n",
      "(datetime.date(2018, 12, 28), 11016)\n",
      "(datetime.date(2018, 12, 29), 16776)\n",
      "(datetime.date(2018, 12, 30), 11789)\n",
      "(datetime.date(2018, 12, 31), 9581)\n",
      "(datetime.date(2019, 1, 1), 204)\n",
      "(datetime.date(2019, 1, 2), 1342)\n",
      "(datetime.date(2019, 1, 3), 1432)\n",
      "(datetime.date(2019, 1, 4), 812)\n",
      "(datetime.date(2019, 1, 5), 1019)\n",
      "(datetime.date(2019, 1, 6), 410)\n",
      "(datetime.date(2019, 1, 7), 220)\n",
      "(datetime.date(2019, 1, 8), 82)\n",
      "(datetime.date(2019, 1, 9), 22)\n",
      "(datetime.date(2019, 1, 10), 28)\n"
     ]
    }
   ],
   "source": [
    "result = engine.execute('select origindate, count(*) from cornell.ne_returns_data_by_day_2018 group by origindate')\n",
    "for _r in result:\n",
    "    print(_r)"
   ]
  },
  {
   "cell_type": "code",
   "execution_count": null,
   "metadata": {},
   "outputs": [],
   "source": [
    "result = engine.execute('select * from cornell.ne_delivery_data_by_day_2018 limit 10')\n",
    "for _r in result:\n",
    "    print(_r)"
   ]
  },
  {
   "cell_type": "code",
   "execution_count": 14,
   "metadata": {
    "ExecuteTime": {
     "end_time": "2019-02-01T15:19:00.484579Z",
     "start_time": "2019-02-01T15:19:00.438422Z"
    }
   },
   "outputs": [
    {
     "data": {
      "text/plain": [
       "<sqlalchemy.engine.result.ResultProxy at 0x7fc537c6d6d8>"
      ]
     },
     "execution_count": 14,
     "metadata": {},
     "output_type": "execute_result"
    }
   ],
   "source": [
    "engine.execute('show tables')"
   ]
  },
  {
   "cell_type": "code",
   "execution_count": 9,
   "metadata": {
    "ExecuteTime": {
     "end_time": "2019-01-16T19:33:30.838600Z",
     "start_time": "2019-01-16T19:33:28.896594Z"
    }
   },
   "outputs": [],
   "source": []
  },
  {
   "cell_type": "code",
   "execution_count": null,
   "metadata": {},
   "outputs": [],
   "source": []
  }
 ],
 "metadata": {
  "kernelspec": {
   "display_name": "Python 3",
   "language": "python",
   "name": "python3"
  },
  "language_info": {
   "codemirror_mode": {
    "name": "ipython",
    "version": 3
   },
   "file_extension": ".py",
   "mimetype": "text/x-python",
   "name": "python",
   "nbconvert_exporter": "python",
   "pygments_lexer": "ipython3",
   "version": "3.6.7"
  }
 },
 "nbformat": 4,
 "nbformat_minor": 2
}
